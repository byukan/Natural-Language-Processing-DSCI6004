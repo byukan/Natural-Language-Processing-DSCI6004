{
 "cells": [
  {
   "cell_type": "code",
   "execution_count": 5,
   "metadata": {
    "collapsed": false
   },
   "outputs": [
    {
     "name": "stdout",
     "output_type": "stream",
     "text": [
      "{'meta': {'message': 'This call requires an access_token. Please see: http://genius.com/developers', 'status': 401}}\n"
     ]
    },
    {
     "ename": "KeyError",
     "evalue": "'response'",
     "output_type": "error",
     "traceback": [
      "\u001b[0;31m---------------------------------------------------------------------------\u001b[0m",
      "\u001b[0;31mKeyError\u001b[0m                                  Traceback (most recent call last)",
      "\u001b[0;32m<ipython-input-5-08778b3843a5>\u001b[0m in \u001b[0;36m<module>\u001b[0;34m()\u001b[0m\n\u001b[1;32m     28\u001b[0m \u001b[0mprint\u001b[0m\u001b[0;34m(\u001b[0m\u001b[0mjson\u001b[0m\u001b[0;34m)\u001b[0m\u001b[0;34m\u001b[0m\u001b[0m\n\u001b[1;32m     29\u001b[0m \u001b[0;34m\u001b[0m\u001b[0m\n\u001b[0;32m---> 30\u001b[0;31m \u001b[0;32mfor\u001b[0m \u001b[0mhit\u001b[0m \u001b[0;32min\u001b[0m \u001b[0mjson\u001b[0m\u001b[0;34m[\u001b[0m\u001b[0;34m\"response\"\u001b[0m\u001b[0;34m]\u001b[0m\u001b[0;34m[\u001b[0m\u001b[0;34m\"hits\"\u001b[0m\u001b[0;34m]\u001b[0m\u001b[0;34m:\u001b[0m\u001b[0;34m\u001b[0m\u001b[0m\n\u001b[0m\u001b[1;32m     31\u001b[0m     \u001b[0;32mif\u001b[0m \u001b[0mhit\u001b[0m\u001b[0;34m[\u001b[0m\u001b[0;34m\"result\"\u001b[0m\u001b[0;34m]\u001b[0m\u001b[0;34m[\u001b[0m\u001b[0;34m\"primary_artist\"\u001b[0m\u001b[0;34m]\u001b[0m\u001b[0;34m[\u001b[0m\u001b[0;34m\"name\"\u001b[0m\u001b[0;34m]\u001b[0m \u001b[0;34m==\u001b[0m \u001b[0martist_name\u001b[0m\u001b[0;34m:\u001b[0m\u001b[0;34m\u001b[0m\u001b[0m\n\u001b[1;32m     32\u001b[0m         \u001b[0msong_info\u001b[0m \u001b[0;34m=\u001b[0m \u001b[0mhit\u001b[0m\u001b[0;34m\u001b[0m\u001b[0m\n",
      "\u001b[0;31mKeyError\u001b[0m: 'response'"
     ]
    }
   ],
   "source": [
    "import requests\n",
    "\n",
    "#TOKEN below should be the string that the API docs tells you\n",
    "#Clearly I'm not giving mine out here on the internet. That'd be dumb\n",
    "base_url = \"http://api.genius.com\"\n",
    "#Key line below here when, this is how to authorize your request when\n",
    "#using the API\n",
    "headers = {'Authorization': 'Bearer TOKEN'}\n",
    "search_url = base_url + \"/search\"\n",
    "song_title = \"In the Midst of It All\"\n",
    "data = {'q': song_title}\n",
    "response = requests.get(search_url, data=data, headers=headers)\n",
    "\n",
    "\n",
    "\n",
    "import requests\n",
    "\n",
    "base_url = \"http://api.genius.com\"\n",
    "headers = {'Authorization': 'Bearer TOKEN'}\n",
    "search_url = base_url + \"/search\"\n",
    "song_title = \"Capsized\"\n",
    "artist_name = \"Andrew Bird\"\n",
    "data = {'q': song_title}\n",
    "response = requests.get(search_url, data=data, headers=headers)\n",
    "json = response.json()\n",
    "song_info = None\n",
    "for hit in json[\"response\"][\"hits\"]:\n",
    "    if hit[\"result\"][\"primary_artist\"][\"name\"] == artist_name:\n",
    "        song_info = hit\n",
    "        break\n",
    "if song_info:\n",
    "    pass\n",
    "  #now we have the song info and can do what we want"
   ]
  },
  {
   "cell_type": "code",
   "execution_count": 34,
   "metadata": {
    "collapsed": false
   },
   "outputs": [],
   "source": [
    "from urllib.parse import urljoin\n",
    "from bs4 import BeautifulSoup\n",
    "import requests\n",
    "from nltk.tokenize import word_tokenize, sent_tokenize\n",
    "    "
   ]
  },
  {
   "cell_type": "code",
   "execution_count": 39,
   "metadata": {
    "collapsed": false
   },
   "outputs": [
    {
     "name": "stdout",
     "output_type": "stream",
     "text": [
      "<class 'list'>\n"
     ]
    }
   ],
   "source": [
    "# BASE_URL = \"http://genius.com\"\n",
    "# artist_url = \"http://genius.com/artists/Andre-3000/\"\n",
    "\n",
    "# response = requests.get(artist_url, headers={'User-Agent': 'Mozilla/5.0 (Macintosh; Intel Mac OS X 10_9_4) AppleWebKit/537.36 (KHTML, like Gecko) Chrome/35.0.1916.153 Safari/537.36'})\n",
    "\n",
    "# # soup = BeautifulSoup(response.text, \"lxml\")\n",
    "# soup = BeautifulSoup(response.text, \"html.parser\")\n",
    "\n",
    "# print(type(soup.select('ul.song_list > li > a')))\n",
    "# print(len())\n",
    "\n",
    "# for song_link in soup.select('ul.song_list > li > a'):\n",
    "#     print(\"hi\")\n",
    "#     link = urljoin(BASE_URL, song_link['href'])\n",
    "#     response = requests.get(link)\n",
    "#     soup = BeautifulSoup(response.text)\n",
    "#     lyrics = soup.find('div', class_='lyrics').text.strip()\n",
    "    \n",
    "#     words = [word_tokenize(t) for t in sent_tokenize(lyrics)]"
   ]
  },
  {
   "cell_type": "code",
   "execution_count": null,
   "metadata": {
    "collapsed": false
   },
   "outputs": [],
   "source": [
    "#-------------------------------------------------------------------------------------------------\n",
    "#Name :Lyrics Downloader\n",
    "#Author : Vijetha PV\n",
    "#Description :Just double click on the lyric.py , enter the name and artist of the song\n",
    "#and automatically saves the lyrics in the file you specify\n",
    "#Requirement Python 2.7.x download from \"http://python.org/download/\"\n",
    "# You also need to install BeautifulSoup \"http://www.crummy.com/software/BeautifulSoup/#Download\"\n",
    "# using either pip or easy_install or manual download\n",
    "#\n",
    "#-------------------------------------------------------------------------------------------------\n",
    "import urllib\n",
    "import re\n",
    "import sys,os,inspect\n",
    "from BeautifulSoup import BeautifulSoup\n",
    "s=raw_input(\"Enter the correct name of the song:  \").strip(\" \").lower()\n",
    "\n",
    "artist=raw_input(\"Enter the correct name of the artist:  \").strip(\" \").lower()\n",
    "\n",
    "s =s.replace(\" \",\"\")\n",
    "artist= artist.replace(\" \",\"\")\n",
    "url='http://www.azlyrics.com/lyrics/'+artist+'/'+ s+'.html'\n",
    "\n",
    "htmltext = urllib.urlopen(url).read()\n",
    "soup =BeautifulSoup(htmltext)\n",
    "products= soup.findAll(\"div\", style = \"margin-left:10px;margin-right:10px;\")\n",
    "lyrics= \" \".join(str(x) for x in products)\n",
    "takeoff=['<br />','</div>','<i>','</i>','<div style=\"margin-left:10px;margin-right:10px;\">']\n",
    "for j in takeoff:\n",
    "    lyrics=lyrics.replace(j,\"\\n\")\n",
    "print lyrics\n",
    "#change the argument inside os.chdir so that you can store all of your lyrics in that directory\n",
    "# example os.chdir(\"c:/users/yourusename/YourLyricsFolder/\")\n",
    "path=raw_input(\"Enter the location where you want to store lyrics\\n Ex:c:/users/yourusename/YourLyricsFolder/    :  \")\n",
    "#os.chdir(\"C:/Users/vijay/Music/lyrics/\")\n",
    "os.chdir(path)\n",
    "with open (s+\".txt\",\"wb\") as l:\n",
    "    l.write(lyrics)\n",
    "l.close()\n"
   ]
  },
  {
   "cell_type": "code",
   "execution_count": 3,
   "metadata": {
    "collapsed": false
   },
   "outputs": [],
   "source": [
    "# import re\n",
    "# import requests\n",
    "# import nltk\n",
    "# from bs4 import BeautifulSoup\n",
    "\n",
    "# url = 'http://www.lyrics.com/eminem'\n",
    "# r = requests.get(url)\n",
    "# soup = BeautifulSoup(r.content)\n",
    "# gdata = soup.find_all('div',{'class':'row'})\n",
    "\n",
    "# eminemLyrics = []\n",
    "\n",
    "# # print(gdata)\n",
    "\n",
    "# for item in gdata:\n",
    "#     title = item.find_all('a',{'itemprop':'name'})[0].text\n",
    "#     lyricsdotcom = 'http://www.lyrics.com'\n",
    "#     for link in item('a'):\n",
    "#         try:\n",
    "#             lyriclink = lyricsdotcom+link.get('href')\n",
    "#             req = requests.get(lyriclink)\n",
    "#             lyricsoup = BeautifulSoup(req.content)\n",
    "#             lyricdata = lyricsoup.find_all('div',{'id':re.compile('lyric_space|lyrics')})[0].text\n",
    "#             eminemLyrics.append([title,lyricdata])\n",
    "#             print title\n",
    "#             print lyricdata\n",
    "#             print\n",
    "#         except:\n",
    "#             pass"
   ]
  },
  {
   "cell_type": "code",
   "execution_count": 41,
   "metadata": {
    "collapsed": false,
    "scrolled": true
   },
   "outputs": [
    {
     "name": "stderr",
     "output_type": "stream",
     "text": [
      "/Users/justw/anaconda/envs/nlp/lib/python3.5/site-packages/bs4/__init__.py:181: UserWarning: No parser was explicitly specified, so I'm using the best available HTML parser for this system (\"html.parser\"). This usually isn't a problem, but if you run this code on another system, or in a different virtual environment, it may use a different parser and behave differently.\n",
      "\n",
      "The code that caused this warning is on line 184 of the file /Users/justw/anaconda/envs/nlp/lib/python3.5/runpy.py. To get rid of this warning, change code that looks like this:\n",
      "\n",
      " BeautifulSoup([your markup])\n",
      "\n",
      "to this:\n",
      "\n",
      " BeautifulSoup([your markup], \"html.parser\")\n",
      "\n",
      "  markup_type=markup_type))\n"
     ]
    },
    {
     "ename": "IndexError",
     "evalue": "list index out of range",
     "output_type": "error",
     "traceback": [
      "\u001b[0;31m---------------------------------------------------------------------------\u001b[0m",
      "\u001b[0;31mIndexError\u001b[0m                                Traceback (most recent call last)",
      "\u001b[0;32m<ipython-input-41-a8f3fa43dc22>\u001b[0m in \u001b[0;36m<module>\u001b[0;34m()\u001b[0m\n\u001b[1;32m     12\u001b[0m \u001b[0;34m\u001b[0m\u001b[0m\n\u001b[1;32m     13\u001b[0m \u001b[0;32mfor\u001b[0m \u001b[0mitem\u001b[0m \u001b[0;32min\u001b[0m \u001b[0mgdata\u001b[0m\u001b[0;34m:\u001b[0m\u001b[0;34m\u001b[0m\u001b[0m\n\u001b[0;32m---> 14\u001b[0;31m     \u001b[0mtitle\u001b[0m \u001b[0;34m=\u001b[0m \u001b[0mitem\u001b[0m\u001b[0;34m.\u001b[0m\u001b[0mfind_all\u001b[0m\u001b[0;34m(\u001b[0m\u001b[0;34m'a'\u001b[0m\u001b[0;34m,\u001b[0m\u001b[0;34m{\u001b[0m\u001b[0;34m'itemprop'\u001b[0m\u001b[0;34m:\u001b[0m\u001b[0;34m'name'\u001b[0m\u001b[0;34m}\u001b[0m\u001b[0;34m)\u001b[0m\u001b[0;34m[\u001b[0m\u001b[0;36m0\u001b[0m\u001b[0;34m]\u001b[0m\u001b[0;34m.\u001b[0m\u001b[0mtext\u001b[0m\u001b[0;34m\u001b[0m\u001b[0m\n\u001b[0m\u001b[1;32m     15\u001b[0m     \u001b[0mlyricsdotcom\u001b[0m \u001b[0;34m=\u001b[0m \u001b[0;34m'http://www.lyrics.com'\u001b[0m\u001b[0;34m\u001b[0m\u001b[0m\n\u001b[1;32m     16\u001b[0m     \u001b[0;32mfor\u001b[0m \u001b[0mlink\u001b[0m \u001b[0;32min\u001b[0m \u001b[0mitem\u001b[0m\u001b[0;34m(\u001b[0m\u001b[0;34m'a'\u001b[0m\u001b[0;34m)\u001b[0m\u001b[0;34m:\u001b[0m\u001b[0;34m\u001b[0m\u001b[0m\n",
      "\u001b[0;31mIndexError\u001b[0m: list index out of range"
     ]
    }
   ],
   "source": [
    "# import re\n",
    "# import requests\n",
    "# import nltk\n",
    "# from bs4 import BeautifulSoup\n",
    "\n",
    "# url = 'http://www.lyrics.com/eminem'\n",
    "# r = requests.get(url)\n",
    "# soup = BeautifulSoup(r.content)\n",
    "# gdata = soup.find_all('div',{'class':'row'})\n",
    "\n",
    "# eminemLyrics = []\n",
    "\n",
    "# for item in gdata:\n",
    "#     title = item.find_all('a',{'itemprop':'name'})[0].text\n",
    "#     lyricsdotcom = 'http://www.lyrics.com'\n",
    "#     for link in item('a'):\n",
    "#         try:\n",
    "#             lyriclink = lyricsdotcom+link.get('href')\n",
    "#             req = requests.get(lyriclink)\n",
    "#             lyricsoup = BeautifulSoup(req.content)\n",
    "#             lyricdata = lyricsoup.find_all('div',{'id':re.compile('lyric_space|lyrics')})[0].text\n",
    "#             eminemLyrics.append([title,lyricdata])\n",
    "#             print(title)\n",
    "#             print(lyricdata)\n",
    "#             print()\n",
    "#         except:\n",
    "#             pass"
   ]
  },
  {
   "cell_type": "code",
   "execution_count": 2,
   "metadata": {
    "collapsed": false,
    "scrolled": true
   },
   "outputs": [
    {
     "name": "stdout",
     "output_type": "stream",
     "text": [
      "curl: (6) Couldn't resolve host 'genius-api.com'\r\n"
     ]
    }
   ],
   "source": [
    "# ! curl -d 'name=Bruce Springsteen' -d 'genre=rock' 'http://genius-api.com/api/artistInfo' | cat temp.txt"
   ]
  },
  {
   "cell_type": "code",
   "execution_count": 3,
   "metadata": {
    "collapsed": true
   },
   "outputs": [],
   "source": [
    "from pprint import pprint\n",
    "import requests\n",
    "import pandas as pd"
   ]
  },
  {
   "cell_type": "code",
   "execution_count": 4,
   "metadata": {
    "collapsed": true
   },
   "outputs": [],
   "source": [
    "# requests.post?"
   ]
  },
  {
   "cell_type": "code",
   "execution_count": 8,
   "metadata": {
    "collapsed": false
   },
   "outputs": [],
   "source": [
    "# url = 'http://genius-api.com/api/artistInfo'\n",
    "url = 'http://www.google.com'\n",
    "\n",
    "data ={'genre': 'rock',\n",
    "      'name': 'Bruce Springsteen'}\n",
    "r = requests.post(url, data=data)"
   ]
  },
  {
   "cell_type": "code",
   "execution_count": 6,
   "metadata": {
    "collapsed": false
   },
   "outputs": [
    {
     "data": {
      "text/plain": [
       "200"
      ]
     },
     "execution_count": 6,
     "metadata": {},
     "output_type": "execute_result"
    }
   ],
   "source": [
    "r.status_code"
   ]
  },
  {
   "cell_type": "code",
   "execution_count": 24,
   "metadata": {
    "collapsed": true
   },
   "outputs": [],
   "source": [
    "bs = r.json()"
   ]
  },
  {
   "cell_type": "code",
   "execution_count": 25,
   "metadata": {
    "collapsed": false,
    "scrolled": true
   },
   "outputs": [
    {
     "name": "stdout",
     "output_type": "stream",
     "text": [
      "{u'link': u'http://rock.rapgenius.com/artists/Bruce-Springsteen',\n",
      " u'name': u'Bruce Springsteen',\n",
      " u'popularSongs': [{u'artists': u'http://rock.rapgenius.com/artists/Bruce-Springsteen',\n",
      "                    u'link': u'http://rock.rapgenius.comhttp://genius.com/Michael-jackson-we-are-the-world-lyrics',\n",
      "                    u'name': u'We Are The World by Michael Jackson  (Ft. Billy Joel, Bob Dylan, Cyndi Lauper, Daryl Hall, Diana Ross, Dionne Warwick, Harry Belafonte, Huey Lewis, James Ingram, Kenny Loggins, Kenny Rogers, Kim Carnes, Latoya Jackson, Lionel  Richie, Paul Simon, Ray Charles, Sheila E, Steve Perry, Stevie Wonder, Tina Turner & Willie Nelson)'},\n",
      "                   {u'artists': u'http://rock.rapgenius.com/artists/Bruce-Springsteen',\n",
      "                    u'link': u'http://rock.rapgenius.comhttp://genius.com/Bruce-springsteen-born-in-the-usa-lyrics',\n",
      "                    u'name': u'Born in the U.S.A.'},\n",
      "                   {u'artists': u'http://rock.rapgenius.com/artists/Bruce-Springsteen',\n",
      "                    u'link': u'http://rock.rapgenius.comhttp://genius.com/Bruce-springsteen-born-to-run-lyrics',\n",
      "                    u'name': u'Born to Run'},\n",
      "                   {u'artists': u'http://rock.rapgenius.com/artists/Bruce-Springsteen',\n",
      "                    u'link': u'http://rock.rapgenius.comhttp://genius.com/Bruce-springsteen-thunder-road-lyrics',\n",
      "                    u'name': u'Thunder Road'},\n",
      "                   {u'artists': u'http://rock.rapgenius.com/artists/Bruce-Springsteen',\n",
      "                    u'link': u'http://rock.rapgenius.comhttp://genius.com/Bruce-springsteen-dancing-in-the-dark-lyrics',\n",
      "                    u'name': u'Dancing In The Dark'},\n",
      "                   {u'artists': u'http://rock.rapgenius.com/artists/Bruce-Springsteen',\n",
      "                    u'link': u'http://rock.rapgenius.comhttp://genius.com/Bruce-springsteen-im-on-fire-lyrics',\n",
      "                    u'name': u\"I'm on Fire\"},\n",
      "                   {u'artists': u'http://rock.rapgenius.com/artists/Bruce-Springsteen',\n",
      "                    u'link': u'http://rock.rapgenius.comhttp://genius.com/Bruce-springsteen-the-river-lyrics',\n",
      "                    u'name': u'The River'}],\n",
      " u'songs': [{u'artists': u'http://rock.rapgenius.com/artists/Bruce-Springsteen',\n",
      "             u'link': u'http://rock.rapgenius.comhttp://genius.com/Michael-jackson-we-are-the-world-lyrics',\n",
      "             u'name': u'We Are The World by Michael Jackson  (Ft. Billy Joel, Bob Dylan, Cyndi Lauper, Daryl Hall, Diana Ross, Dionne Warwick, Harry Belafonte, Huey Lewis, James Ingram, Kenny Loggins, Kenny Rogers, Kim Carnes, Latoya Jackson, Lionel  Richie, Paul Simon, Ray Charles, Sheila E, Steve Perry, Stevie Wonder, Tina Turner & Willie Nelson)'},\n",
      "            {u'artists': u'http://rock.rapgenius.com/artists/Bruce-Springsteen',\n",
      "             u'link': u'http://rock.rapgenius.comhttp://genius.com/Bruce-springsteen-born-in-the-usa-lyrics',\n",
      "             u'name': u'Born in the U.S.A.'},\n",
      "            {u'artists': u'http://rock.rapgenius.com/artists/Bruce-Springsteen',\n",
      "             u'link': u'http://rock.rapgenius.comhttp://genius.com/Bruce-springsteen-born-to-run-lyrics',\n",
      "             u'name': u'Born to Run'},\n",
      "            {u'artists': u'http://rock.rapgenius.com/artists/Bruce-Springsteen',\n",
      "             u'link': u'http://rock.rapgenius.comhttp://genius.com/Bruce-springsteen-thunder-road-lyrics',\n",
      "             u'name': u'Thunder Road'},\n",
      "            {u'artists': u'http://rock.rapgenius.com/artists/Bruce-Springsteen',\n",
      "             u'link': u'http://rock.rapgenius.comhttp://genius.com/Bruce-springsteen-dancing-in-the-dark-lyrics',\n",
      "             u'name': u'Dancing In The Dark'},\n",
      "            {u'artists': u'http://rock.rapgenius.com/artists/Bruce-Springsteen',\n",
      "             u'link': u'http://rock.rapgenius.comhttp://genius.com/Bruce-springsteen-im-on-fire-lyrics',\n",
      "             u'name': u\"I'm on Fire\"},\n",
      "            {u'artists': u'http://rock.rapgenius.com/artists/Bruce-Springsteen',\n",
      "             u'link': u'http://rock.rapgenius.comhttp://genius.com/Bruce-springsteen-the-river-lyrics',\n",
      "             u'name': u'The River'},\n",
      "            {u'artists': u'http://rock.rapgenius.com/artists/Bruce-Springsteen',\n",
      "             u'link': u'http://rock.rapgenius.comhttp://genius.com/Bruce-springsteen-4th-of-july-asbury-park-sandy-lyrics',\n",
      "             u'name': u'4th of July, Asbury Park (Sandy)'},\n",
      "            {u'artists': u'http://rock.rapgenius.com/artists/Bruce-Springsteen',\n",
      "             u'link': u'http://rock.rapgenius.comhttp://genius.com/Bruce-springsteen-57-channels-and-nothin-on-lyrics',\n",
      "             u'name': u\"57 Channels (and Nothin' On)\"},\n",
      "            {u'artists': u'http://rock.rapgenius.com/artists/Bruce-Springsteen',\n",
      "             u'link': u'http://rock.rapgenius.comhttp://genius.com/Bruce-springsteen-adam-raised-a-cain-lyrics',\n",
      "             u'name': u'Adam Raised A Cain prod. by Jon Landau & Steven Van Zandt'},\n",
      "            {u'artists': u'http://rock.rapgenius.com/artists/Bruce-Springsteen',\n",
      "             u'link': u'http://rock.rapgenius.comhttp://genius.com/Bruce-springsteen-aint-got-you-lyrics',\n",
      "             u'name': u\"Ain't Got You\"},\n",
      "            {u'artists': u'http://rock.rapgenius.com/artists/Bruce-Springsteen',\n",
      "             u'link': u'http://rock.rapgenius.comhttp://genius.com/Bruce-springsteen-all-that-heaven-will-allow-lyrics',\n",
      "             u'name': u'All That Heaven Will Allow'},\n",
      "            {u'artists': u'http://rock.rapgenius.com/artists/Bruce-Springsteen',\n",
      "             u'link': u'http://rock.rapgenius.comhttp://genius.com/Bruce-springsteen-american-land-lyrics',\n",
      "             u'name': u'American Land'},\n",
      "            {u'artists': u'http://rock.rapgenius.com/artists/Bruce-Springsteen',\n",
      "             u'link': u'http://rock.rapgenius.comhttp://genius.com/Bruce-springsteen-american-skin-41-shots-lyrics',\n",
      "             u'name': u'American Skin (41 Shots)'},\n",
      "            {u'artists': u'http://rock.rapgenius.com/artists/Bruce-Springsteen',\n",
      "             u'link': u'http://rock.rapgenius.comhttp://genius.com/Bruce-springsteen-a-night-with-the-jersey-devil-lyrics',\n",
      "             u'name': u'A night with the Jersey Devil'},\n",
      "            {u'artists': u'http://rock.rapgenius.com/artists/Bruce-Springsteen',\n",
      "             u'link': u'http://rock.rapgenius.comhttp://genius.com/Bruce-springsteen-atlantic-city-lyrics',\n",
      "             u'name': u'Atlantic City'},\n",
      "            {u'artists': u'http://rock.rapgenius.com/artists/Bruce-Springsteen',\n",
      "             u'link': u'http://rock.rapgenius.comhttp://genius.com/Bruce-springsteen-backstreets-lyrics',\n",
      "             u'name': u'Backstreets'},\n",
      "            {u'artists': u'http://rock.rapgenius.com/artists/Bruce-Springsteen',\n",
      "             u'link': u'http://rock.rapgenius.comhttp://genius.com/Bruce-springsteen-badlands-lyrics',\n",
      "             u'name': u'Badlands prod. by Jon Landau & Steven Van Zandt'},\n",
      "            {u'artists': u'http://rock.rapgenius.com/artists/Bruce-Springsteen',\n",
      "             u'link': u'http://rock.rapgenius.comhttp://genius.com/Bruce-springsteen-blinded-by-the-light-lyrics',\n",
      "             u'name': u'Blinded by the Light prod. by Jim Cretecos & Mike Appel'},\n",
      "            {u'artists': u'http://rock.rapgenius.com/artists/Bruce-Springsteen',\n",
      "             u'link': u'http://rock.rapgenius.comhttp://genius.com/Joyce-berry-blinded-by-the-light-lyrics',\n",
      "             u'name': u'Blinded By The Light by Joyce Berry  prod. by Artie Fields'},\n",
      "            {u'artists': u'http://rock.rapgenius.com/artists/Bruce-Springsteen',\n",
      "             u'link': u'http://rock.rapgenius.comhttp://genius.com/Bruce-springsteen-blood-brothers-lyrics',\n",
      "             u'name': u'Blood Brothers'},\n",
      "            {u'artists': u'http://rock.rapgenius.com/artists/Bruce-Springsteen',\n",
      "             u'link': u'http://rock.rapgenius.comhttp://genius.com/Bruce-springsteen-bobby-jean-lyrics',\n",
      "             u'name': u'Bobby Jean'},\n",
      "            {u'artists': u'http://rock.rapgenius.com/artists/Bruce-Springsteen',\n",
      "             u'link': u'http://rock.rapgenius.comhttp://genius.com/Bruce-springsteen-born-in-the-usa-lyrics',\n",
      "             u'name': u'Born in the U.S.A.'},\n",
      "            {u'artists': u'http://rock.rapgenius.com/artists/Bruce-Springsteen',\n",
      "             u'link': u'http://rock.rapgenius.comhttp://genius.com/Bruce-springsteen-born-to-run-lyrics',\n",
      "             u'name': u'Born to Run'},\n",
      "            {u'artists': u'http://rock.rapgenius.com/artists/Bruce-Springsteen',\n",
      "             u'link': u'http://rock.rapgenius.comhttp://genius.com/Jimmy-fallon-born-to-run-bridgegate-parody-annotated',\n",
      "             u'name': u'Born to Run Bridgegate Parody by Jimmy Fallon'},\n",
      "            {u'artists': u'http://rock.rapgenius.com/artists/Bruce-Springsteen',\n",
      "             u'link': u'http://rock.rapgenius.comhttp://genius.com/Bruce-springsteen-brilliant-disguise-lyrics',\n",
      "             u'name': u'Brilliant Disguise'},\n",
      "            {u'artists': u'http://rock.rapgenius.com/artists/Bruce-Springsteen',\n",
      "             u'link': u'http://rock.rapgenius.comhttp://genius.com/Bruce-springsteen-cadillac-ranch-lyrics',\n",
      "             u'name': u'Cadillac Ranch'}]}\n"
     ]
    }
   ],
   "source": [
    "pprint(bs)"
   ]
  },
  {
   "cell_type": "code",
   "execution_count": 97,
   "metadata": {
    "collapsed": true
   },
   "outputs": [],
   "source": [
    "springsteen_links = [bs['songs'][v]['link'] for v in xrange(len(bs['songs']))]\n",
    "\n",
    "springsteen_songs = [bs['songs'][v]['name'] for v in xrange(len(bs['songs']))]"
   ]
  },
  {
   "cell_type": "code",
   "execution_count": 98,
   "metadata": {
    "collapsed": false
   },
   "outputs": [
    {
     "data": {
      "text/plain": [
       "[u'We Are The World by Michael Jackson  (Ft. Billy Joel, Bob Dylan, Cyndi Lauper, Daryl Hall, Diana Ross, Dionne Warwick, Harry Belafonte, Huey Lewis, James Ingram, Kenny Loggins, Kenny Rogers, Kim Carnes, Latoya Jackson, Lionel  Richie, Paul Simon, Ray Charles, Sheila E, Steve Perry, Stevie Wonder, Tina Turner & Willie Nelson)',\n",
       " u'Born in the U.S.A.',\n",
       " u'Born to Run',\n",
       " u'Dancing In The Dark',\n",
       " u'Thunder Road']"
      ]
     },
     "execution_count": 98,
     "metadata": {},
     "output_type": "execute_result"
    }
   ],
   "source": [
    "springsteen_songs[:5]"
   ]
  },
  {
   "cell_type": "code",
   "execution_count": 37,
   "metadata": {
    "collapsed": false,
    "scrolled": true
   },
   "outputs": [
    {
     "data": {
      "text/plain": [
       "[u'http://rock.rapgenius.comhttp://genius.com/Michael-jackson-we-are-the-world-lyrics',\n",
       " u'http://rock.rapgenius.comhttp://genius.com/Bruce-springsteen-born-in-the-usa-lyrics',\n",
       " u'http://rock.rapgenius.comhttp://genius.com/Bruce-springsteen-born-to-run-lyrics',\n",
       " u'http://rock.rapgenius.comhttp://genius.com/Bruce-springsteen-dancing-in-the-dark-lyrics',\n",
       " u'http://rock.rapgenius.comhttp://genius.com/Bruce-springsteen-thunder-road-lyrics']"
      ]
     },
     "execution_count": 37,
     "metadata": {},
     "output_type": "execute_result"
    }
   ],
   "source": [
    "springsteen_links[:5]"
   ]
  },
  {
   "cell_type": "code",
   "execution_count": 26,
   "metadata": {
    "collapsed": false
   },
   "outputs": [],
   "source": [
    "# trying to get lyrics for a given song\n",
    "\n",
    "url2 = 'http://genius-api.com/api/lyricsInfo'\n",
    "data2 ={'link':'http://genius.com/Bruce-springsteen-blood-brothers-lyrics',\n",
    "      'genre': 'rock'}\n",
    "r2 = requests.post(url2, data=data2)"
   ]
  },
  {
   "cell_type": "code",
   "execution_count": 28,
   "metadata": {
    "collapsed": false
   },
   "outputs": [
    {
     "name": "stdout",
     "output_type": "stream",
     "text": [
      "{u'explanations': {u'3856209': u'This song is one of Springsteen\\u2019s most personal and intimate. Initially written a few years after his departure from the E Street Band, he reminisced on his time with the band and wrote this song',\n",
      "                   u'7234812': u'Five days after the death of longtime E Street Band organ and accordion player Danny Federici, Springsteen and the rest of the E Street Band had a concert to play in Tampa. The result was a emotionally packed performance of this song as pictures and videos of Danny. It is rumored that after the performance, Springsteen collapsed on the stage in tears, continuing with the concert after other members of the band helped him up\\nhttps://www.youtube.com/watch?v=ilODa8KAJdM'},\n",
      " u'lyrics': {u'featuringArtists': [],\n",
      "             u'mainArtist': u'',\n",
      "             u'producingArtists': [],\n",
      "             u'sections': [{u'name': u'[Verse 1]',\n",
      "                            u'verses': [{u'content': u\"We played king of the mountain out on the end\\nThe world come charging up the hill, and we were women and men\\nNow there's so much that time, time and memory fade away\\nWe got our own roads to ride and chances we gotta take\\nWe stood side by side each one fighting for the other\\nWe said until we died we'd always be blood brothers\\n\\n\\nNow the hardness of this world slowly grinds your dreams away\\nMaking a fool's joke out of the promises we make\\nAnd what once seemed black and white turns to so many shades of gray\\nWe lose ourselves in work to do and bills to pay\\nAnd it's a ride, ride, ride, and there ain't much cover\\nWith no one running by your side my blood brother\\n\\n\\nOn through the houses of the dead past those fallen in their tracks\\nAlways moving ahead and never looking back\\nNow i don't know how i feel, i don't know how i feel tonight\\nIf i've fallen beneath the wheel, if i've lost or i've gained sight\\nI don't even know why, i don't know why i made this call\\nOr if any of this matters anymore after all\\n\",\n",
      "                                         u'id': -1}]},\n",
      "                           {u'name': u'[Verse 2]', u'verses': []},\n",
      "                           {u'name': u'[Verse 3]',\n",
      "                            u'verses': [{u'content': u\"But the stars are burning bright like some mystery uncovered\\nI'll keep moving through the dark with you in my heart\\nMy blood brother\",\n",
      "                                         u'id': 7234812}]}],\n",
      "             u'songId': 392219,\n",
      "             u'songTitle': u''}}\n"
     ]
    }
   ],
   "source": [
    "pprint(r2.json())"
   ]
  },
  {
   "cell_type": "code",
   "execution_count": 32,
   "metadata": {
    "collapsed": false
   },
   "outputs": [
    {
     "name": "stdout",
     "output_type": "stream",
     "text": [
      "[{u'name': u'[Verse 1]',\n",
      "  u'verses': [{u'content': u\"We played king of the mountain out on the end\\nThe world come charging up the hill, and we were women and men\\nNow there's so much that time, time and memory fade away\\nWe got our own roads to ride and chances we gotta take\\nWe stood side by side each one fighting for the other\\nWe said until we died we'd always be blood brothers\\n\\n\\nNow the hardness of this world slowly grinds your dreams away\\nMaking a fool's joke out of the promises we make\\nAnd what once seemed black and white turns to so many shades of gray\\nWe lose ourselves in work to do and bills to pay\\nAnd it's a ride, ride, ride, and there ain't much cover\\nWith no one running by your side my blood brother\\n\\n\\nOn through the houses of the dead past those fallen in their tracks\\nAlways moving ahead and never looking back\\nNow i don't know how i feel, i don't know how i feel tonight\\nIf i've fallen beneath the wheel, if i've lost or i've gained sight\\nI don't even know why, i don't know why i made this call\\nOr if any of this matters anymore after all\\n\",\n",
      "               u'id': -1}]},\n",
      " {u'name': u'[Verse 2]', u'verses': []},\n",
      " {u'name': u'[Verse 3]',\n",
      "  u'verses': [{u'content': u\"But the stars are burning bright like some mystery uncovered\\nI'll keep moving through the dark with you in my heart\\nMy blood brother\",\n",
      "               u'id': 7234812}]}]\n"
     ]
    }
   ],
   "source": [
    "pprint(r2.json()['lyrics']['sections'])"
   ]
  },
  {
   "cell_type": "code",
   "execution_count": 36,
   "metadata": {
    "collapsed": false
   },
   "outputs": [
    {
     "data": {
      "text/plain": [
       "u\"We played king of the mountain out on the end\\nThe world come charging up the hill, and we were women and men\\nNow there's so much that time, time and memory fade away\\nWe got our own roads to ride and chances we gotta take\\nWe stood side by side each one fighting for the other\\nWe said until we died we'd always be blood brothers\\n\\n\\nNow the hardness of this world slowly grinds your dreams away\\nMaking a fool's joke out of the promises we make\\nAnd what once seemed black and white turns to so many shades of gray\\nWe lose ourselves in work to do and bills to pay\\nAnd it's a ride, ride, ride, and there ain't much cover\\nWith no one running by your side my blood brother\\n\\n\\nOn through the houses of the dead past those fallen in their tracks\\nAlways moving ahead and never looking back\\nNow i don't know how i feel, i don't know how i feel tonight\\nIf i've fallen beneath the wheel, if i've lost or i've gained sight\\nI don't even know why, i don't know why i made this call\\nOr if any of this matters anymore after all\\n\""
      ]
     },
     "execution_count": 36,
     "metadata": {},
     "output_type": "execute_result"
    }
   ],
   "source": [
    "# example of getting lyrics for a song\n",
    "r2.json()['lyrics']['sections'][0]['verses'][0]['content']"
   ]
  },
  {
   "cell_type": "markdown",
   "metadata": {},
   "source": [
    "# Trying to get Song Lyrics"
   ]
  },
  {
   "cell_type": "code",
   "execution_count": 3,
   "metadata": {
    "collapsed": false
   },
   "outputs": [],
   "source": [
    "url3 = 'http://genius-api.com/api/artistInfo'\n",
    "data3 ={'genre': 'rap',\n",
    "      'name': 'Mos Def'}\n",
    "r3 = requests.post(url3, data=data3)"
   ]
  },
  {
   "cell_type": "code",
   "execution_count": 6,
   "metadata": {
    "collapsed": false
   },
   "outputs": [
    {
     "name": "stdout",
     "output_type": "stream",
     "text": [
      "{u'link': u'http://rapgenius.com/artists/Yasiin-Bey',\n",
      " u'name': u'Yasiin Bey',\n",
      " u'popularSongs': [{u'artists': u'http://rapgenius.com/artists/Yasiin-Bey',\n",
      "                    u'link': u'http://rapgenius.comhttp://genius.com/Yasiin-bey-mathematics-lyrics',\n",
      "                    u'name': u'Mathematics prod. by DJ Premier'},\n",
      "                   {u'artists': u'http://rapgenius.com/artists/Yasiin-Bey',\n",
      "                    u'link': u'http://rapgenius.comhttp://genius.com/A-ap-rocky-back-home-lyrics',\n",
      "                    u'name': u'Back Home by A$AP Rocky  (Ft. Acyde & A$AP Yams) prod. by A$AP Rocky, DDot Omen & Thelonious Martin'},\n",
      "                   {u'artists': u'http://rapgenius.com/artists/Yasiin-Bey',\n",
      "                    u'link': u'http://rapgenius.comhttp://genius.com/Yasiin-bey-ms-fat-booty-lyrics',\n",
      "                    u'name': u'Ms. Fat Booty prod. by Ayatollah'},\n",
      "                   {u'artists': u'http://rapgenius.com/artists/Yasiin-Bey',\n",
      "                    u'link': u'http://rapgenius.comhttp://genius.com/Black-star-respiration-lyrics',\n",
      "                    u'name': u'Respiration by Black Star  (Ft. Common) prod. by Hi-Tek'},\n",
      "                   {u'artists': u'http://rapgenius.com/artists/Yasiin-Bey',\n",
      "                    u'link': u'http://rapgenius.comhttp://genius.com/Kanye-west-two-words-lyrics',\n",
      "                    u'name': u'Two Words by Kanye West  (Ft. Freeway) prod. by Kanye West'},\n",
      "                   {u'artists': u'http://rapgenius.com/artists/Yasiin-Bey',\n",
      "                    u'link': u'http://rapgenius.comhttp://genius.com/Kanye-west-drunk-and-hot-girls-lyrics',\n",
      "                    u'name': u'Drunk and Hot Girls by Kanye West  prod. by Jon Brion & Kanye West'},\n",
      "                   {u'artists': u'http://rapgenius.com/artists/Yasiin-Bey',\n",
      "                    u'link': u'http://rapgenius.comhttp://genius.com/Black-star-thieves-in-the-night-lyrics',\n",
      "                    u'name': u'Thieves in the Night by Black Star  prod. by 88 Keys'}],\n",
      " u'songs': [{u'artists': u'http://rapgenius.com/artists/Yasiin-Bey',\n",
      "             u'link': u'http://rapgenius.comhttp://genius.com/Yasiin-bey-mathematics-lyrics',\n",
      "             u'name': u'Mathematics prod. by DJ Premier'},\n",
      "            {u'artists': u'http://rapgenius.com/artists/Yasiin-Bey',\n",
      "             u'link': u'http://rapgenius.comhttp://genius.com/A-ap-rocky-back-home-lyrics',\n",
      "             u'name': u'Back Home by A$AP Rocky  (Ft. Acyde & A$AP Yams) prod. by A$AP Rocky, DDot Omen & Thelonious Martin'},\n",
      "            {u'artists': u'http://rapgenius.com/artists/Yasiin-Bey',\n",
      "             u'link': u'http://rapgenius.comhttp://genius.com/Yasiin-bey-ms-fat-booty-lyrics',\n",
      "             u'name': u'Ms. Fat Booty prod. by Ayatollah'},\n",
      "            {u'artists': u'http://rapgenius.com/artists/Yasiin-Bey',\n",
      "             u'link': u'http://rapgenius.comhttp://genius.com/Black-star-respiration-lyrics',\n",
      "             u'name': u'Respiration by Black Star  (Ft. Common) prod. by Hi-Tek'},\n",
      "            {u'artists': u'http://rapgenius.com/artists/Yasiin-Bey',\n",
      "             u'link': u'http://rapgenius.comhttp://genius.com/Kanye-west-two-words-lyrics',\n",
      "             u'name': u'Two Words by Kanye West  (Ft. Freeway) prod. by Kanye West'},\n",
      "            {u'artists': u'http://rapgenius.com/artists/Yasiin-Bey',\n",
      "             u'link': u'http://rapgenius.comhttp://genius.com/Kanye-west-drunk-and-hot-girls-lyrics',\n",
      "             u'name': u'Drunk and Hot Girls by Kanye West  prod. by Jon Brion & Kanye West'},\n",
      "            {u'artists': u'http://rapgenius.com/artists/Yasiin-Bey',\n",
      "             u'link': u'http://rapgenius.comhttp://genius.com/Black-star-thieves-in-the-night-lyrics',\n",
      "             u'name': u'Thieves in the Night by Black Star  prod. by 88 Keys'},\n",
      "            {u'artists': u'http://rapgenius.com/artists/Yasiin-Bey',\n",
      "             u'link': u'http://rapgenius.comhttp://genius.com/Yasiin-bey-all-praise-due-lyrics',\n",
      "             u'name': u'All Praise Due prod. by Adlib'},\n",
      "            {u'artists': u'http://rapgenius.com/artists/Yasiin-Bey',\n",
      "             u'link': u'http://rapgenius.comhttp://genius.com/Knaan-america-lyrics',\n",
      "             u'name': u\"America by K'naan  (Ft. Chali 2na)\"},\n",
      "            {u'artists': u'http://rapgenius.com/artists/Yasiin-Bey',\n",
      "             u'link': u'http://rapgenius.comhttp://genius.com/Yasiin-bey-an-open-letter-from-mos-def-annotated',\n",
      "             u'name': u'An Open Letter From Mos Def'},\n",
      "            {u'artists': u'http://rapgenius.com/artists/Yasiin-Bey',\n",
      "             u'link': u'http://rapgenius.comhttp://genius.com/Black-star-astronomy-8th-light-lyrics',\n",
      "             u'name': u'Astronomy (8th Light) by Black Star  (Ft. Weldon Irvine) prod. by Da Beatminerz'},\n",
      "            {u'artists': u'http://rapgenius.com/artists/Yasiin-Bey',\n",
      "             u'link': u'http://rapgenius.comhttp://genius.com/Yasiin-bey-a-tree-never-grown-lyrics',\n",
      "             u'name': u'A Tree Never Grown (Ft. A.L., Fre, Grafh, Jane Doe, Jean Grae, J-Live, Kofi Taha, Rubix, Tame One & Wordsworth) prod. by 88 Keys'},\n",
      "            {u'artists': u'http://rapgenius.com/artists/Yasiin-Bey',\n",
      "             u'link': u'http://rapgenius.comhttp://genius.com/Yasiin-bey-auditorium-lyrics',\n",
      "             u'name': u'Auditorium (Ft. Slick Rick) prod. by Madlib'},\n",
      "            {u'artists': u'http://rapgenius.com/artists/Yasiin-Bey',\n",
      "             u'link': u'http://rapgenius.comhttp://genius.com/A-ap-rocky-back-home-lyrics',\n",
      "             u'name': u'Back Home by A$AP Rocky  (Ft. Acyde & A$AP Yams) prod. by A$AP Rocky, DDot Omen & Thelonious Martin'},\n",
      "            {u'artists': u'http://rapgenius.com/artists/Yasiin-Bey',\n",
      "             u'link': u'http://rapgenius.comhttp://genius.com/Yasiin-bey-basquiat-ghostwriter-lyrics',\n",
      "             u'name': u'Basquiat Ghostwriter'},\n",
      "            {u'artists': u'http://rapgenius.com/artists/Yasiin-Bey',\n",
      "             u'link': u'http://rapgenius.comhttp://genius.com/The-high-and-mighty-b-boy-document-99-lyrics',\n",
      "             u'name': u'B-Boy Document 99 by The High & Mighty  (Ft. Skillz) prod. by DJ Mighty Mi'},\n",
      "            {u'artists': u'http://rapgenius.com/artists/Yasiin-Bey',\n",
      "             u'link': u'http://rapgenius.comhttp://genius.com/Black-star-b-boys-will-b-boys-lyrics',\n",
      "             u'name': u'B Boys Will B Boys by Black Star  prod. by Ge-ology'},\n",
      "            {u'artists': u'http://rapgenius.com/artists/Yasiin-Bey',\n",
      "             u'link': u'http://rapgenius.comhttp://genius.com/Yasiin-bey-beauty-in-the-dark-lyrics',\n",
      "             u'name': u'Beauty In The Dark (Ft. The Isley Brothers)'},\n",
      "            {u'artists': u'http://rapgenius.com/artists/Yasiin-Bey',\n",
      "             u'link': u'http://rapgenius.comhttp://genius.com/Yasiin-bey-bedstuy-parade-and-funeral-march-lyrics',\n",
      "             u'name': u'Bedstuy Parade & Funeral March'},\n",
      "            {u'artists': u'http://rapgenius.com/artists/Yasiin-Bey',\n",
      "             u'link': u'http://rapgenius.comhttp://genius.com/Yasiin-bey-beef-lyrics',\n",
      "             u'name': u'Beef prod. by Minnesota'},\n",
      "            {u'artists': u'http://rapgenius.com/artists/Yasiin-Bey',\n",
      "             u'link': u'http://rapgenius.comhttp://genius.com/Yasiin-bey-bet-cypher-lyrics',\n",
      "             u'name': u'BET Cypher (Ft. Black Thought & Eminem)'},\n",
      "            {u'artists': u'http://rapgenius.com/artists/Yasiin-Bey',\n",
      "             u'link': u'http://rapgenius.comhttp://genius.com/Yasiin-bey-bey-lyrics',\n",
      "             u'name': u'Bey'},\n",
      "            {u'artists': u'http://rapgenius.com/artists/Yasiin-Bey',\n",
      "             u'link': u'http://rapgenius.comhttp://genius.com/De-la-soul-big-brother-beat-lyrics',\n",
      "             u'name': u'Big Brother Beat by De La Soul  prod. by Skeff Anslem'},\n",
      "            {u'artists': u'http://rapgenius.com/artists/Yasiin-Bey',\n",
      "             u'link': u'http://rapgenius.comhttp://genius.com/Immortal-technique-bin-laden-lyrics',\n",
      "             u'name': u'Bin Laden by Immortal Technique  (Ft. Jadakiss)'},\n",
      "            {u'artists': u'http://rapgenius.com/artists/Yasiin-Bey',\n",
      "             u'link': u'http://rapgenius.comhttp://genius.com/Yasiin-bey-black-jesus-lyrics',\n",
      "             u'name': u'Black Jesus prod. by Mannie Fresh'},\n",
      "            {u'artists': u'http://rapgenius.com/artists/Yasiin-Bey',\n",
      "             u'link': u'http://rapgenius.comhttp://genius.com/Yasiin-bey-black-on-both-sides-credits-lyrics',\n",
      "             u'name': u'Black on Both Sides [Credits]'},\n",
      "            {u'artists': u'http://rapgenius.com/artists/Yasiin-Bey',\n",
      "             u'link': u'http://rapgenius.comhttp://genius.com/Robert-glasper-black-radio-lyrics',\n",
      "             u'name': u'Black Radio by Robert Glasper'}]}\n"
     ]
    }
   ],
   "source": [
    "pprint(r3.json())"
   ]
  },
  {
   "cell_type": "code",
   "execution_count": 7,
   "metadata": {
    "collapsed": false
   },
   "outputs": [],
   "source": [
    "mos_def_songs = [r3.json()['songs'][v]['link'] for v in xrange(len(r3.json()['songs']))]"
   ]
  },
  {
   "cell_type": "code",
   "execution_count": 8,
   "metadata": {
    "collapsed": false
   },
   "outputs": [
    {
     "name": "stdout",
     "output_type": "stream",
     "text": [
      "[u'http://genius.com/Yasiin-bey-mathematics-lyrics', u'http://genius.com/A-ap-rocky-back-home-lyrics', u'http://genius.com/Yasiin-bey-ms-fat-booty-lyrics', u'http://genius.com/Black-star-respiration-lyrics', u'http://genius.com/Kanye-west-two-words-lyrics', u'http://genius.com/Kanye-west-drunk-and-hot-girls-lyrics', u'http://genius.com/Black-star-thieves-in-the-night-lyrics', u'http://genius.com/Yasiin-bey-all-praise-due-lyrics', u'http://genius.com/Knaan-america-lyrics', u'http://genius.com/Yasiin-bey-an-open-letter-from-mos-def-annotated']\n"
     ]
    }
   ],
   "source": [
    "mos_def_songs = [l.replace('http://rapgenius.com', '') for l in mos_def_songs]\n",
    "\n",
    "print mos_def_songs[:10]"
   ]
  },
  {
   "cell_type": "code",
   "execution_count": 9,
   "metadata": {
    "collapsed": true
   },
   "outputs": [],
   "source": [
    "url = 'http://genius-api.com/api/lyricsInfo'\n",
    "data ={'genre': 'rap', 'link': 'http://genius.com/Knaan-america-lyrics'}\n",
    "js = requests.post(url, data=data).json()"
   ]
  },
  {
   "cell_type": "code",
   "execution_count": 10,
   "metadata": {
    "collapsed": false,
    "scrolled": false
   },
   "outputs": [
    {
     "name": "stdout",
     "output_type": "stream",
     "text": [
      "{u'explanations': {u'138352': u\"K'naan\\u2019s old home\\u2026\\u2026\\u2026 Somalia being far too dangerous in the early 90s prompted K'naan and his fam to move out of there to US. K'naan remembers his childhood here..\",\n",
      "                   u'138370': u'Her name is Sharaf Haaji',\n",
      "                   u'138373': u'America',\n",
      "                   u'138376': u'Yep, that\\u2019s America.\\n\\nUnlike Somalia, education is something everyone has an opportunity for. Where in Somalia, there isn\\u2019t even a government. You only get schooled if you have the cash for it. Belive me, not many people are on that boat.',\n",
      "                   u'138379': u\"\\u201cthose beautiful houses, I live in'em\\u201d\\n\\nGuess what folks? Great way to learn Somali\\u2014Listen to this 10 times a day.\",\n",
      "                   u'138382': u\"Translation\\n Somebody please tell'em give'em a clue of you, zamzam \\nP.S Zam Zam is a the name of a sacred water well in Makkah. People who do Hajj drink from the water of this blessed well.\\nits an islamic word.\",\n",
      "                   u'138385': u'Yea, that\\u2019s true. He learned English by listening to Nas and Rakim. I\\u2019m not kidding.',\n",
      "                   u'138389': u'A reference to the fact we celebrate Columbus Day and Thanksgiving, even though both are celebrating the pillaging of Native Americans.',\n",
      "                   u'139036': u\"K'naan isn\\u2019t copying anyone. He is fresh and different.\\n\\n\\n\\nACCEPTED COMMENT: For example he is known for using drums, guitar, and rattles instead of beatz and snares which is unique in the rap industry.\",\n",
      "                   u'139037': u\"K'naan says how fresh and different he is, is even eveident in his dress style.\\n\\n\\n\\nUhh, yea, like your style, K.\",\n",
      "                   u'139049': u'Army green is a colour used in Army vehicles and uniforms.\\n\\n\\n\\nThis is what Mos is talking about\\n\\nRed meat is uncooked meat. Here he\\u2019s playing on the colors red and green, but also making a statement about consumption and militarism in US culture.',\n",
      "                   u'139099': u'\\u201cMish\\u201d means \\u201cnot\\u201d in Arabic. Somethings fresh and somethings not',\n",
      "                   u'139101': u\"Mos' shout out to Political leaders, who he believes ignore those in need and take refuge in their money\",\n",
      "                   u'1565425': u'http://www.youtube.com/watch?v=0qCYabLy1ic',\n",
      "                   u'177249': u'With the ridiculousness that is reality TV, it seems like just about anyone can have their own show.',\n",
      "                   u'177270': u'Vast corporations in America\\u2019s capitalistic economy only want you to buy.  As long as you\\u2019re buying and staying out of their business, they\\u2019re happy.  Our society is increasingly materialistic.',\n",
      "                   u'177277': u'In order to \\u201cShop til you drop\\u201d you have to \\u201cwork til you dead.\\u201d  In America, sometimes it can seem that\\u2019s all that people do anymore:  shop, work, watch TV, sleep, repeat.',\n",
      "                   u'177279': u'Mos sings mockingly and sarcastically in the tune of \\u201cMy Country \\u2018Tis of Thee\\u201d for a few lines.',\n",
      "                   u'177284': u'Men don\\u2019t want women to talk to them or challenge them (get in their face), they just want the women to get on their knees, which symbolizes two things:\\n1. They want women to be submissive\\n2. They want the women to give them sexual pleasure in the form of oral sex',\n",
      "                   u'1914599': u'All of the affection that is seen is all fake.',\n",
      "                   u'2150662': u'He feels internal struggle sometimes because even though he\\u2019s gotten rich through his work with J5, he still hangs with his old friends from the hood.',\n",
      "                   u'2195956': u'It puzzles him that women are surprised when he\\u2019s courteous on a date. He\\u2019s saying that chivalry is almost nonexistent in America.',\n",
      "                   u'231521': u'Translation:\\nRemember us fleeing',\n",
      "                   u'231524': u'Translation:\\nSearching for peace',\n",
      "                   u'231526': u'Translation:\\nIn America none was found',\n",
      "                   u'2447048': u'Because his affection isn\\u2019t real he doesn\\u2019t want girls to \\u201creciprocate it\\u201d, or fall for him because most of them are unoriginal and fake.',\n",
      "                   u'2447056': u'People smoke to escape their misery.',\n",
      "                   u'2447066': u'He is putting the media\\u2019s lies into scientific terminology.\\n\\n\\n\\nWorld events start out as \\u201cpure\\u201d or truthful but are \\u201cblurred\\u201d or diluted when laced with the media\\u2019s lies (which you believe). Just like substances can start out pure but will be blurred/diluted when you lace them with other substances.',\n",
      "                   u'2552787': u'2na is Muslim, so he is trying to stay away from drugs, misogyny, and violence, he is trying to stay on the lane of righteousness.\\n\\n\\n\\nSirat al-Mustaqim (Arabic) means the \\u201cstraight path\\u201d, in Islamic belief, you are either on the \\u201cstraight path\\u201d to heaven or you aren\\u2019t, and 2na wants to ensure he isn\\u2019t drifting off.',\n",
      "                   u'2552836': u'America has a high obesity rate, resulting in a lot of fat, most of this fat is due to frills (or unnecessary eating and spending), while around the world people don\\u2019t have anything to eat.\\n\\n\\n\\nAnother problem in America is our addiction to thrills (or danger) which results in many spills (or deaths and injuries).',\n",
      "                   u'2552851': u'All we do in America is eat and sleep, we don\\u2019t add anything to the world (this also ties into the fat referenced in the above line, as just eating and sleeping would result in weight gain).\\n\\n\\n\\nAnd the prevalence of hyper-sexuality in the country (both life and media) has resulted in an increased focus on and attention to appearance and physical intimacy.  He similarly references a rise in ultraviolence in media, video games, and real life.',\n",
      "                   u'2554249': u'#Adversity#\\n\\n\\nA state of hardship or affliction; misfortune.\\nA calamitous event.\\nDistress; affliction; hardship.\\nAn unfortunate event or incident.',\n",
      "                   u'285596': u'Double meaning here.\\n\\nBeing in the true traditional Somali \\u2013 and many African \\u2013 culture, we don\\u2019t refrigerate things. We cook it immeditately if it spoils easily.\\n\\nKnaan is also saying he\\u2019ll take something\\u2026interesting, or original. Because his overall style is really orginal. Now, tell me, how many people do you see rapping in Somali that fresh? Nobody. Because he\\u2019s innovative like that.',\n",
      "                   u'3495048': u\"K'naan\\u2019s song for America which is supposedly \\u2026world\\u2019s entertainer, world\\u2019s devastator\",\n",
      "                   u'467888': u'Even though he\\u2019s an immigrant looking for peace from his homeland which was way more dangerous than any ghetto in America, he still gets racially profiled because the color of his skin says he\\u2019s just another black kid who\\u2019s up to no good\\u2026 typical of the police in New York.',\n",
      "                   u'517219': u'American Culture is decaying into the immoral idea that you should get everything you can (whether that is money or sex) and then leave the first second you can.\\n\\n\\n\\nThis could be a reference to:\\n1. Robberies (you get all the money and run off)\\n2. Pregnancy (men get women pregnant then leave them)\\n3. Corporations (they get all the money they can, not caring if it hurts the consumer, or even works)',\n",
      "                   u'7792145': u\"Translation: \\u201cTell me your name.\\u201d\\n\\nK'naan seems to want to flirt with an American female but due to him not knowing English (as stated in the 2nd verse), K'naan believes flirting in Somali is the best solution to grab the girls attention.\",\n",
      "                   u'802595': u'Misinformation about Islam has made people mistrust/hate Muslims.\\n\\n\\n\\nThis could also be saying that the falsified information that the Taliban/Al-Qaeda are feeding their followers is causing them to get into a \\u201cstir\\u201d or commit violent acts.',\n",
      "                   u'833487': u'A reference to lynching, as just a few decades ago the KKK was lynching people just for being black.'},\n",
      " u'lyrics': {u'featuringArtists': [],\n",
      "             u'mainArtist': u'',\n",
      "             u'producingArtists': [],\n",
      "             u'sections': [{u'name': u'[Intro]',\n",
      "                            u'verses': [{u'content': u'Uh huh uh huh uh huh\\n',\n",
      "                                         u'id': -1},\n",
      "                                        {u'content': u\"Oh this takes me home\\nIt makes me think about sitting outside of my old home when I was younger and singing something like\\n\\n(K'Naan in Somali)\\nGabaryaray shuxaano\\nMaro Shabeel eh xirato\\nMaro qafiif eh huwato\\n\",\n",
      "                                         u'id': 138352},\n",
      "                                        {u'content': u'Magacaaga ii sheeg\\n',\n",
      "                                         u'id': 7792145},\n",
      "                                        {u'content': u'Magacayga waa Sharaf\\nSharaf, Xaaji weyaan\\n',\n",
      "                                         u'id': 138370},\n",
      "                                        {u'content': u'Aqalada xiriirta\\nDhinac baa ka jooga\\n',\n",
      "                                         u'id': 138379},\n",
      "                                        {u'content': u'Ala yaa usheega?\\nTinta ushaleeya?\\nNaa ho\\xe9y Zamzamey\\nSabaax nuurey\\nAdoo kilkiley\\nIyo\\nKaloon badanay\\nAdoo xajka jira\\nXasuus badhanay!\\nSaxiibtaa\\nCaasho, cashaq baa dhilay\\nUgu dhambaystina\\nAniga iyo geel uba\\nUgu banaan bixin\\nWaa aniga orodneey\\nNabad dheynee\\nMareekan waa laga soo waayey\\nMareekan waa laga soo waayey\\nMareekan waa laga soo waayey\\n\\n\\n\\n',\n",
      "                                         u'id': 138382}]},\n",
      "                           {u'name': u'[Repeat x2]', u'verses': []},\n",
      "                           {u'name': u\"[Verse 1: K'Naan]\",\n",
      "                            u'verses': [{u'content': u'There are certain things fresh and certain things mish\\n',\n",
      "                                         u'id': 139099},\n",
      "                                        {u'content': u\"I got my own sound I don't sound like the rest\\n\",\n",
      "                                         u'id': 139036},\n",
      "                                        {u'content': u'And even my attire and my choice of dress\\n',\n",
      "                                         u'id': 139037},\n",
      "                                        {u'content': u\"And not long ago I don't spoke English\\n\",\n",
      "                                         u'id': 138385},\n",
      "                                        {u'content': u'My point is police pull me over a lot\\nThey wonder what kind of rap sheet I got\\n',\n",
      "                                         u'id': 467888},\n",
      "                                        {u'content': u'And sometimes I take a young girl out to eat\\nAnd hold the door open, \"Oh, you\\'re so sweet!\"\\n',\n",
      "                                         u'id': 2195956},\n",
      "                                        {u'content': u\"Of course my affection's super illustrated\\n\",\n",
      "                                         u'id': 1914599},\n",
      "                                        {u'content': u\"And I like to give don't reciprocate it\\n\",\n",
      "                                         u'id': 2447048},\n",
      "                                        {u'content': u'Unless you could give me someone innovated\\nWell lets cook it up we dont refrigerate it\\n',\n",
      "                                         u'id': 285596},\n",
      "                                        {u'content': u'But back to the country of the educated\\n',\n",
      "                                         u'id': 138376},\n",
      "                                        {u'content': u'Where people get robbed and they celebrate it\\n\\n',\n",
      "                                         u'id': 138389},\n",
      "                                        {u'content': u'Waa aniga orodneey\\n',\n",
      "                                         u'id': 231521},\n",
      "                                        {u'content': u'Nabad dheynee!\\n',\n",
      "                                         u'id': 231524},\n",
      "                                        {u'content': u'Mareekan waa laga soo waayey\\nMareekan waa laga soo waayey\\nMareekan waa laga soo waayey\\n\\n\\n\\n',\n",
      "                                         u'id': 231526}]},\n",
      "                           {u'name': u'[Repeat x2]', u'verses': []},\n",
      "                           {u'name': u'[Verse 2: Mos Def]',\n",
      "                            u'verses': [{u'content': u'Maraken,',\n",
      "                                         u'id': 138373},\n",
      "                                        {u'content': u\"my country 'tis of thee\\nSweet land for robberies\\n\",\n",
      "                                         u'id': 177279},\n",
      "                                        {u'content': u'Dope smokeand SUV\\u2019s,',\n",
      "                                         u'id': 2447056},\n",
      "                                        {u'content': u'red meat and army greens\\n',\n",
      "                                         u'id': 139049},\n",
      "                                        {u'content': u'Fat and frills, thrills and spills\\n',\n",
      "                                         u'id': 2552836},\n",
      "                                        {u'content': u'Eat and sleep, hump and kill\\n',\n",
      "                                         u'id': 2552851},\n",
      "                                        {u'content': u'Shop til you drop,',\n",
      "                                         u'id': 177270},\n",
      "                                        {u'content': u'work til you dead\\n',\n",
      "                                         u'id': 177277},\n",
      "                                        {u'content': u'Get all you can, then get in the wind\\n',\n",
      "                                         u'id': 517219},\n",
      "                                        {u'content': u'Outta my face on your knees\\n',\n",
      "                                         u'id': 177284},\n",
      "                                        {u'content': u'Sleep in the mansion, shut out the streets\\n',\n",
      "                                         u'id': 139101},\n",
      "                                        {u'content': u'Make that cake, whoop that trick\\nLick my swagger suck my sick\\nGet high get low get stcky get rich\\n',\n",
      "                                         u'id': 1565425},\n",
      "                                        {u'content': u'Get yo own showget down get quick\\nYou slow you blow you broke your fix\\nTerror dome, home swag home\\nTerror dome, home swag home\\nHome swag home, home swag home\\n\\n(Somalian(America))\\n\\n\\n',\n",
      "                                         u'id': 177249}]},\n",
      "                           {u'name': u'[Verse 3- Chali 2na]',\n",
      "                            u'verses': [{u'content': u'There are some things pure while certain things blur\\nDilute it with the lie and you believe when it occur\\n',\n",
      "                                         u'id': 2447066},\n",
      "                                        {u'content': u'Falsified information got my people in the stir\\nWe have to be in search of something equal to the cure\\nStraight out the door, I come to give you more\\nLay the law keep it raw, when I speak it from the core\\nGet underneath your skin like especially with the claw\\n',\n",
      "                                         u'id': 802595},\n",
      "                                        {u'content': u'Conflicted with the rich cuz I kick it with the poor\\n',\n",
      "                                         u'id': 2150662},\n",
      "                                        {u'content': u'I laugh in the face of adversity\\nSound clashed with the bass cuz its natural to me\\nBut if you pay attention to the past you will see\\n',\n",
      "                                         u'id': 2554249},\n",
      "                                        {u'content': u\"Not long ago you black they'd hang your ass from a tree\\nCertain things things change, while some stay the same\\nSome are recluse others are lovers of the game\\n\",\n",
      "                                         u'id': 833487},\n",
      "                                        {u'content': u\"I'm trying to walk the lane, the Sirat al-Mustaqim\\nInstead of doing things they keep you covered in the flame\\n\\n(Somali)\\nNanananana that shit was cool in English, but let me get that Somali verse\\n(Somali)\\n\\n(Somali until fade out)\",\n",
      "                                         u'id': 2552787}]}],\n",
      "             u'songId': 5254,\n",
      "             u'songTitle': u''}}\n"
     ]
    }
   ],
   "source": [
    "pprint(js)"
   ]
  },
  {
   "cell_type": "code",
   "execution_count": 18,
   "metadata": {
    "collapsed": true
   },
   "outputs": [],
   "source": [
    "from pprint import pprint"
   ]
  },
  {
   "cell_type": "code",
   "execution_count": 11,
   "metadata": {
    "collapsed": false,
    "scrolled": false
   },
   "outputs": [
    {
     "name": "stdout",
     "output_type": "stream",
     "text": [
      "Uh huh uh huh uh huh\n",
      "\n",
      "Oh this takes me home\n",
      "It makes me think about sitting outside of my old home when I was younger and singing something like\n",
      "\n",
      "(K'Naan in Somali)\n",
      "Gabaryaray shuxaano\n",
      "Maro Shabeel eh xirato\n",
      "Maro qafiif eh huwato\n",
      "\n",
      "Magacaaga ii sheeg\n",
      "\n",
      "Magacayga waa Sharaf\n",
      "Sharaf, Xaaji weyaan\n",
      "\n",
      "Aqalada xiriirta\n",
      "Dhinac baa ka jooga\n",
      "\n",
      "Ala yaa usheega?\n",
      "Tinta ushaleeya?\n",
      "Naa hoéy Zamzamey\n",
      "Sabaax nuurey\n",
      "Adoo kilkiley\n",
      "Iyo\n",
      "Kaloon badanay\n",
      "Adoo xajka jira\n",
      "Xasuus badhanay!\n",
      "Saxiibtaa\n",
      "Caasho, cashaq baa dhilay\n",
      "Ugu dhambaystina\n",
      "Aniga iyo geel uba\n",
      "Ugu banaan bixin\n",
      "Waa aniga orodneey\n",
      "Nabad dheynee\n",
      "Mareekan waa laga soo waayey\n",
      "Mareekan waa laga soo waayey\n",
      "Mareekan waa laga soo waayey\n",
      "\n",
      "\n",
      "\n",
      "\n",
      "There are certain things fresh and certain things mish\n",
      "\n",
      "I got my own sound I don't sound like the rest\n",
      "\n",
      "And even my attire and my choice of dress\n",
      "\n",
      "And not long ago I don't spoke English\n",
      "\n",
      "My point is police pull me over a lot\n",
      "They wonder what kind of rap sheet I got\n",
      "\n",
      "And sometimes I take a young girl out to eat\n",
      "And hold the door open, \"Oh, you're so sweet!\"\n",
      "\n",
      "Of course my affection's super illustrated\n",
      "\n",
      "And I like to give don't reciprocate it\n",
      "\n",
      "Unless you could give me someone innovated\n",
      "Well lets cook it up we dont refrigerate it\n",
      "\n",
      "But back to the country of the educated\n",
      "\n",
      "Where people get robbed and they celebrate it\n",
      "\n",
      "\n",
      "Waa aniga orodneey\n",
      "\n",
      "Nabad dheynee!\n",
      "\n",
      "Mareekan waa laga soo waayey\n",
      "Mareekan waa laga soo waayey\n",
      "Mareekan waa laga soo waayey\n",
      "\n",
      "\n",
      "\n",
      "\n",
      "Maraken,\n",
      "my country 'tis of thee\n",
      "Sweet land for robberies\n",
      "\n",
      "Dope smokeand SUV’s,\n",
      "red meat and army greens\n",
      "\n",
      "Fat and frills, thrills and spills\n",
      "\n",
      "Eat and sleep, hump and kill\n",
      "\n",
      "Shop til you drop,\n",
      "work til you dead\n",
      "\n",
      "Get all you can, then get in the wind\n",
      "\n",
      "Outta my face on your knees\n",
      "\n",
      "Sleep in the mansion, shut out the streets\n",
      "\n",
      "Make that cake, whoop that trick\n",
      "Lick my swagger suck my sick\n",
      "Get high get low get stcky get rich\n",
      "\n",
      "Get yo own showget down get quick\n",
      "You slow you blow you broke your fix\n",
      "Terror dome, home swag home\n",
      "Terror dome, home swag home\n",
      "Home swag home, home swag home\n",
      "\n",
      "(Somalian(America))\n",
      "\n",
      "\n",
      "\n",
      "There are some things pure while certain things blur\n",
      "Dilute it with the lie and you believe when it occur\n",
      "\n",
      "Falsified information got my people in the stir\n",
      "We have to be in search of something equal to the cure\n",
      "Straight out the door, I come to give you more\n",
      "Lay the law keep it raw, when I speak it from the core\n",
      "Get underneath your skin like especially with the claw\n",
      "\n",
      "Conflicted with the rich cuz I kick it with the poor\n",
      "\n",
      "I laugh in the face of adversity\n",
      "Sound clashed with the bass cuz its natural to me\n",
      "But if you pay attention to the past you will see\n",
      "\n",
      "Not long ago you black they'd hang your ass from a tree\n",
      "Certain things things change, while some stay the same\n",
      "Some are recluse others are lovers of the game\n",
      "\n",
      "I'm trying to walk the lane, the Sirat al-Mustaqim\n",
      "Instead of doing things they keep you covered in the flame\n",
      "\n",
      "(Somali)\n",
      "Nanananana that shit was cool in English, but let me get that Somali verse\n",
      "(Somali)\n",
      "\n",
      "(Somali until fade out)\n"
     ]
    }
   ],
   "source": [
    "for section in js['lyrics']['sections']:\n",
    "    for content in section['verses']:\n",
    "        print content['content']"
   ]
  },
  {
   "cell_type": "code",
   "execution_count": 12,
   "metadata": {
    "collapsed": false,
    "scrolled": false
   },
   "outputs": [
    {
     "name": "stdout",
     "output_type": "stream",
     "text": [
      "{u'name': u'[Intro]',\n",
      " u'verses': [{u'content': u'Uh huh uh huh uh huh\\n', u'id': -1},\n",
      "             {u'content': u\"Oh this takes me home\\nIt makes me think about sitting outside of my old home when I was younger and singing something like\\n\\n(K'Naan in Somali)\\nGabaryaray shuxaano\\nMaro Shabeel eh xirato\\nMaro qafiif eh huwato\\n\",\n",
      "              u'id': 138352},\n",
      "             {u'content': u'Magacaaga ii sheeg\\n', u'id': 7792145},\n",
      "             {u'content': u'Magacayga waa Sharaf\\nSharaf, Xaaji weyaan\\n',\n",
      "              u'id': 138370},\n",
      "             {u'content': u'Aqalada xiriirta\\nDhinac baa ka jooga\\n',\n",
      "              u'id': 138379},\n",
      "             {u'content': u'Ala yaa usheega?\\nTinta ushaleeya?\\nNaa ho\\xe9y Zamzamey\\nSabaax nuurey\\nAdoo kilkiley\\nIyo\\nKaloon badanay\\nAdoo xajka jira\\nXasuus badhanay!\\nSaxiibtaa\\nCaasho, cashaq baa dhilay\\nUgu dhambaystina\\nAniga iyo geel uba\\nUgu banaan bixin\\nWaa aniga orodneey\\nNabad dheynee\\nMareekan waa laga soo waayey\\nMareekan waa laga soo waayey\\nMareekan waa laga soo waayey\\n\\n\\n\\n',\n",
      "              u'id': 138382}]}\n",
      "{u'content': u'Uh huh uh huh uh huh\\n', u'id': -1}\n",
      "{u'content': u\"Oh this takes me home\\nIt makes me think about sitting outside of my old home when I was younger and singing something like\\n\\n(K'Naan in Somali)\\nGabaryaray shuxaano\\nMaro Shabeel eh xirato\\nMaro qafiif eh huwato\\n\",\n",
      " u'id': 138352}\n",
      "{u'content': u'Magacaaga ii sheeg\\n', u'id': 7792145}\n",
      "{u'content': u'Magacayga waa Sharaf\\nSharaf, Xaaji weyaan\\n', u'id': 138370}\n",
      "{u'content': u'Aqalada xiriirta\\nDhinac baa ka jooga\\n', u'id': 138379}\n",
      "{u'content': u'Ala yaa usheega?\\nTinta ushaleeya?\\nNaa ho\\xe9y Zamzamey\\nSabaax nuurey\\nAdoo kilkiley\\nIyo\\nKaloon badanay\\nAdoo xajka jira\\nXasuus badhanay!\\nSaxiibtaa\\nCaasho, cashaq baa dhilay\\nUgu dhambaystina\\nAniga iyo geel uba\\nUgu banaan bixin\\nWaa aniga orodneey\\nNabad dheynee\\nMareekan waa laga soo waayey\\nMareekan waa laga soo waayey\\nMareekan waa laga soo waayey\\n\\n\\n\\n',\n",
      " u'id': 138382}\n",
      "{u'name': u'[Repeat x2]', u'verses': []}\n",
      "{u'name': u\"[Verse 1: K'Naan]\",\n",
      " u'verses': [{u'content': u'There are certain things fresh and certain things mish\\n',\n",
      "              u'id': 139099},\n",
      "             {u'content': u\"I got my own sound I don't sound like the rest\\n\",\n",
      "              u'id': 139036},\n",
      "             {u'content': u'And even my attire and my choice of dress\\n',\n",
      "              u'id': 139037},\n",
      "             {u'content': u\"And not long ago I don't spoke English\\n\",\n",
      "              u'id': 138385},\n",
      "             {u'content': u'My point is police pull me over a lot\\nThey wonder what kind of rap sheet I got\\n',\n",
      "              u'id': 467888},\n",
      "             {u'content': u'And sometimes I take a young girl out to eat\\nAnd hold the door open, \"Oh, you\\'re so sweet!\"\\n',\n",
      "              u'id': 2195956},\n",
      "             {u'content': u\"Of course my affection's super illustrated\\n\",\n",
      "              u'id': 1914599},\n",
      "             {u'content': u\"And I like to give don't reciprocate it\\n\",\n",
      "              u'id': 2447048},\n",
      "             {u'content': u'Unless you could give me someone innovated\\nWell lets cook it up we dont refrigerate it\\n',\n",
      "              u'id': 285596},\n",
      "             {u'content': u'But back to the country of the educated\\n',\n",
      "              u'id': 138376},\n",
      "             {u'content': u'Where people get robbed and they celebrate it\\n\\n',\n",
      "              u'id': 138389},\n",
      "             {u'content': u'Waa aniga orodneey\\n', u'id': 231521},\n",
      "             {u'content': u'Nabad dheynee!\\n', u'id': 231524},\n",
      "             {u'content': u'Mareekan waa laga soo waayey\\nMareekan waa laga soo waayey\\nMareekan waa laga soo waayey\\n\\n\\n\\n',\n",
      "              u'id': 231526}]}\n",
      "{u'content': u'There are certain things fresh and certain things mish\\n',\n",
      " u'id': 139099}\n",
      "{u'content': u\"I got my own sound I don't sound like the rest\\n\",\n",
      " u'id': 139036}\n",
      "{u'content': u'And even my attire and my choice of dress\\n', u'id': 139037}\n",
      "{u'content': u\"And not long ago I don't spoke English\\n\", u'id': 138385}\n",
      "{u'content': u'My point is police pull me over a lot\\nThey wonder what kind of rap sheet I got\\n',\n",
      " u'id': 467888}\n",
      "{u'content': u'And sometimes I take a young girl out to eat\\nAnd hold the door open, \"Oh, you\\'re so sweet!\"\\n',\n",
      " u'id': 2195956}\n",
      "{u'content': u\"Of course my affection's super illustrated\\n\", u'id': 1914599}\n",
      "{u'content': u\"And I like to give don't reciprocate it\\n\", u'id': 2447048}\n",
      "{u'content': u'Unless you could give me someone innovated\\nWell lets cook it up we dont refrigerate it\\n',\n",
      " u'id': 285596}\n",
      "{u'content': u'But back to the country of the educated\\n', u'id': 138376}\n",
      "{u'content': u'Where people get robbed and they celebrate it\\n\\n',\n",
      " u'id': 138389}\n",
      "{u'content': u'Waa aniga orodneey\\n', u'id': 231521}\n",
      "{u'content': u'Nabad dheynee!\\n', u'id': 231524}\n",
      "{u'content': u'Mareekan waa laga soo waayey\\nMareekan waa laga soo waayey\\nMareekan waa laga soo waayey\\n\\n\\n\\n',\n",
      " u'id': 231526}\n",
      "{u'name': u'[Repeat x2]', u'verses': []}\n",
      "{u'name': u'[Verse 2: Mos Def]',\n",
      " u'verses': [{u'content': u'Maraken,', u'id': 138373},\n",
      "             {u'content': u\"my country 'tis of thee\\nSweet land for robberies\\n\",\n",
      "              u'id': 177279},\n",
      "             {u'content': u'Dope smokeand SUV\\u2019s,', u'id': 2447056},\n",
      "             {u'content': u'red meat and army greens\\n', u'id': 139049},\n",
      "             {u'content': u'Fat and frills, thrills and spills\\n',\n",
      "              u'id': 2552836},\n",
      "             {u'content': u'Eat and sleep, hump and kill\\n', u'id': 2552851},\n",
      "             {u'content': u'Shop til you drop,', u'id': 177270},\n",
      "             {u'content': u'work til you dead\\n', u'id': 177277},\n",
      "             {u'content': u'Get all you can, then get in the wind\\n',\n",
      "              u'id': 517219},\n",
      "             {u'content': u'Outta my face on your knees\\n', u'id': 177284},\n",
      "             {u'content': u'Sleep in the mansion, shut out the streets\\n',\n",
      "              u'id': 139101},\n",
      "             {u'content': u'Make that cake, whoop that trick\\nLick my swagger suck my sick\\nGet high get low get stcky get rich\\n',\n",
      "              u'id': 1565425},\n",
      "             {u'content': u'Get yo own showget down get quick\\nYou slow you blow you broke your fix\\nTerror dome, home swag home\\nTerror dome, home swag home\\nHome swag home, home swag home\\n\\n(Somalian(America))\\n\\n\\n',\n",
      "              u'id': 177249}]}\n",
      "{u'content': u'Maraken,', u'id': 138373}\n",
      "{u'content': u\"my country 'tis of thee\\nSweet land for robberies\\n\",\n",
      " u'id': 177279}\n",
      "{u'content': u'Dope smokeand SUV\\u2019s,', u'id': 2447056}\n",
      "{u'content': u'red meat and army greens\\n', u'id': 139049}\n",
      "{u'content': u'Fat and frills, thrills and spills\\n', u'id': 2552836}\n",
      "{u'content': u'Eat and sleep, hump and kill\\n', u'id': 2552851}\n",
      "{u'content': u'Shop til you drop,', u'id': 177270}\n",
      "{u'content': u'work til you dead\\n', u'id': 177277}\n",
      "{u'content': u'Get all you can, then get in the wind\\n', u'id': 517219}\n",
      "{u'content': u'Outta my face on your knees\\n', u'id': 177284}\n",
      "{u'content': u'Sleep in the mansion, shut out the streets\\n', u'id': 139101}\n",
      "{u'content': u'Make that cake, whoop that trick\\nLick my swagger suck my sick\\nGet high get low get stcky get rich\\n',\n",
      " u'id': 1565425}\n",
      "{u'content': u'Get yo own showget down get quick\\nYou slow you blow you broke your fix\\nTerror dome, home swag home\\nTerror dome, home swag home\\nHome swag home, home swag home\\n\\n(Somalian(America))\\n\\n\\n',\n",
      " u'id': 177249}\n",
      "{u'name': u'[Verse 3- Chali 2na]',\n",
      " u'verses': [{u'content': u'There are some things pure while certain things blur\\nDilute it with the lie and you believe when it occur\\n',\n",
      "              u'id': 2447066},\n",
      "             {u'content': u'Falsified information got my people in the stir\\nWe have to be in search of something equal to the cure\\nStraight out the door, I come to give you more\\nLay the law keep it raw, when I speak it from the core\\nGet underneath your skin like especially with the claw\\n',\n",
      "              u'id': 802595},\n",
      "             {u'content': u'Conflicted with the rich cuz I kick it with the poor\\n',\n",
      "              u'id': 2150662},\n",
      "             {u'content': u'I laugh in the face of adversity\\nSound clashed with the bass cuz its natural to me\\nBut if you pay attention to the past you will see\\n',\n",
      "              u'id': 2554249},\n",
      "             {u'content': u\"Not long ago you black they'd hang your ass from a tree\\nCertain things things change, while some stay the same\\nSome are recluse others are lovers of the game\\n\",\n",
      "              u'id': 833487},\n",
      "             {u'content': u\"I'm trying to walk the lane, the Sirat al-Mustaqim\\nInstead of doing things they keep you covered in the flame\\n\\n(Somali)\\nNanananana that shit was cool in English, but let me get that Somali verse\\n(Somali)\\n\\n(Somali until fade out)\",\n",
      "              u'id': 2552787}]}\n",
      "{u'content': u'There are some things pure while certain things blur\\nDilute it with the lie and you believe when it occur\\n',\n",
      " u'id': 2447066}\n",
      "{u'content': u'Falsified information got my people in the stir\\nWe have to be in search of something equal to the cure\\nStraight out the door, I come to give you more\\nLay the law keep it raw, when I speak it from the core\\nGet underneath your skin like especially with the claw\\n',\n",
      " u'id': 802595}\n",
      "{u'content': u'Conflicted with the rich cuz I kick it with the poor\\n',\n",
      " u'id': 2150662}\n",
      "{u'content': u'I laugh in the face of adversity\\nSound clashed with the bass cuz its natural to me\\nBut if you pay attention to the past you will see\\n',\n",
      " u'id': 2554249}\n",
      "{u'content': u\"Not long ago you black they'd hang your ass from a tree\\nCertain things things change, while some stay the same\\nSome are recluse others are lovers of the game\\n\",\n",
      " u'id': 833487}\n",
      "{u'content': u\"I'm trying to walk the lane, the Sirat al-Mustaqim\\nInstead of doing things they keep you covered in the flame\\n\\n(Somali)\\nNanananana that shit was cool in English, but let me get that Somali verse\\n(Somali)\\n\\n(Somali until fade out)\",\n",
      " u'id': 2552787}\n",
      "Uh huh uh huh uh huh\n",
      "Oh this takes me home\n",
      "It makes me think about sitting outside of my old home when I was younger and singing something like\n",
      "\n",
      "(K'Naan in Somali)\n",
      "Gabaryaray shuxaano\n",
      "Maro Shabeel eh xirato\n",
      "Maro qafiif eh huwato\n",
      "Magacaaga ii sheeg\n",
      "Magacayga waa Sharaf\n",
      "Sharaf, Xaaji weyaan\n",
      "Aqalada xiriirta\n",
      "Dhinac baa ka jooga\n",
      "Ala yaa usheega?\n",
      "Tinta ushaleeya?\n",
      "Naa hoéy Zamzamey\n",
      "Sabaax nuurey\n",
      "Adoo kilkiley\n",
      "Iyo\n",
      "Kaloon badanay\n",
      "Adoo xajka jira\n",
      "Xasuus badhanay!\n",
      "Saxiibtaa\n",
      "Caasho, cashaq baa dhilay\n",
      "Ugu dhambaystina\n",
      "Aniga iyo geel uba\n",
      "Ugu banaan bixin\n",
      "Waa aniga orodneey\n",
      "Nabad dheynee\n",
      "Mareekan waa laga soo waayey\n",
      "Mareekan waa laga soo waayey\n",
      "Mareekan waa laga soo waayey\n",
      "\n",
      "\n",
      "\n",
      "There are certain things fresh and certain things mish\n",
      "I got my own sound I don't sound like the rest\n",
      "And even my attire and my choice of dress\n",
      "And not long ago I don't spoke English\n",
      "My point is police pull me over a lot\n",
      "They wonder what kind of rap sheet I got\n",
      "And sometimes I take a young girl out to eat\n",
      "And hold the door open, \"Oh, you're so sweet!\"\n",
      "Of course my affection's super illustrated\n",
      "And I like to give don't reciprocate it\n",
      "Unless you could give me someone innovated\n",
      "Well lets cook it up we dont refrigerate it\n",
      "But back to the country of the educated\n",
      "Where people get robbed and they celebrate it\n",
      "\n",
      "Waa aniga orodneey\n",
      "Nabad dheynee!\n",
      "Mareekan waa laga soo waayey\n",
      "Mareekan waa laga soo waayey\n",
      "Mareekan waa laga soo waayey\n",
      "\n",
      "\n",
      "\n",
      "Maraken,my country 'tis of thee\n",
      "Sweet land for robberies\n",
      "Dope smokeand SUV’s,red meat and army greens\n",
      "Fat and frills, thrills and spills\n",
      "Eat and sleep, hump and kill\n",
      "Shop til you drop,work til you dead\n",
      "Get all you can, then get in the wind\n",
      "Outta my face on your knees\n",
      "Sleep in the mansion, shut out the streets\n",
      "Make that cake, whoop that trick\n",
      "Lick my swagger suck my sick\n",
      "Get high get low get stcky get rich\n",
      "Get yo own showget down get quick\n",
      "You slow you blow you broke your fix\n",
      "Terror dome, home swag home\n",
      "Terror dome, home swag home\n",
      "Home swag home, home swag home\n",
      "\n",
      "(Somalian(America))\n",
      "\n",
      "\n",
      "There are some things pure while certain things blur\n",
      "Dilute it with the lie and you believe when it occur\n",
      "Falsified information got my people in the stir\n",
      "We have to be in search of something equal to the cure\n",
      "Straight out the door, I come to give you more\n",
      "Lay the law keep it raw, when I speak it from the core\n",
      "Get underneath your skin like especially with the claw\n",
      "Conflicted with the rich cuz I kick it with the poor\n",
      "I laugh in the face of adversity\n",
      "Sound clashed with the bass cuz its natural to me\n",
      "But if you pay attention to the past you will see\n",
      "Not long ago you black they'd hang your ass from a tree\n",
      "Certain things things change, while some stay the same\n",
      "Some are recluse others are lovers of the game\n",
      "I'm trying to walk the lane, the Sirat al-Mustaqim\n",
      "Instead of doing things they keep you covered in the flame\n",
      "\n",
      "(Somali)\n",
      "Nanananana that shit was cool in English, but let me get that Somali verse\n",
      "(Somali)\n",
      "\n",
      "(Somali until fade out)\n"
     ]
    }
   ],
   "source": [
    "# print js['lyrics']['sections']\n",
    "\n",
    "lyrics = u\"\"\n",
    "\n",
    "for s in js['lyrics']['sections']:\n",
    "    pprint(s)\n",
    "    for v in s['verses']:\n",
    "        pprint(v)\n",
    "        lyrics += v['content']\n",
    "\n",
    "print lyrics"
   ]
  },
  {
   "cell_type": "code",
   "execution_count": 15,
   "metadata": {
    "collapsed": false
   },
   "outputs": [
    {
     "data": {
      "text/plain": [
       "u'Uh huh uh huh uh huh\\nOh this takes me home\\nIt makes me think about sitting outside of my old home when I was younger and singing something like\\n\\n(K\\'Naan in Somali)\\nGabaryaray shuxaano\\nMaro Shabeel eh xirato\\nMaro qafiif eh huwato\\nMagacaaga ii sheeg\\nMagacayga waa Sharaf\\nSharaf, Xaaji weyaan\\nAqalada xiriirta\\nDhinac baa ka jooga\\nAla yaa usheega?\\nTinta ushaleeya?\\nNaa ho\\xe9y Zamzamey\\nSabaax nuurey\\nAdoo kilkiley\\nIyo\\nKaloon badanay\\nAdoo xajka jira\\nXasuus badhanay!\\nSaxiibtaa\\nCaasho, cashaq baa dhilay\\nUgu dhambaystina\\nAniga iyo geel uba\\nUgu banaan bixin\\nWaa aniga orodneey\\nNabad dheynee\\nMareekan waa laga soo waayey\\nMareekan waa laga soo waayey\\nMareekan waa laga soo waayey\\n\\n\\n\\nThere are certain things fresh and certain things mish\\nI got my own sound I don\\'t sound like the rest\\nAnd even my attire and my choice of dress\\nAnd not long ago I don\\'t spoke English\\nMy point is police pull me over a lot\\nThey wonder what kind of rap sheet I got\\nAnd sometimes I take a young girl out to eat\\nAnd hold the door open, \"Oh, you\\'re so sweet!\"\\nOf course my affection\\'s super illustrated\\nAnd I like to give don\\'t reciprocate it\\nUnless you could give me someone innovated\\nWell lets cook it up we dont refrigerate it\\nBut back to the country of the educated\\nWhere people get robbed and they celebrate it\\n\\nWaa aniga orodneey\\nNabad dheynee!\\nMareekan waa laga soo waayey\\nMareekan waa laga soo waayey\\nMareekan waa laga soo waayey\\n\\n\\n\\nMaraken,my country \\'tis of thee\\nSweet land for robberies\\nDope smokeand SUV\\u2019s,red meat and army greens\\nFat and frills, thrills and spills\\nEat and sleep, hump and kill\\nShop til you drop,work til you dead\\nGet all you can, then get in the wind\\nOutta my face on your knees\\nSleep in the mansion, shut out the streets\\nMake that cake, whoop that trick\\nLick my swagger suck my sick\\nGet high get low get stcky get rich\\nGet yo own showget down get quick\\nYou slow you blow you broke your fix\\nTerror dome, home swag home\\nTerror dome, home swag home\\nHome swag home, home swag home\\n\\n(Somalian(America))\\n\\n\\nThere are some things pure while certain things blur\\nDilute it with the lie and you believe when it occur\\nFalsified information got my people in the stir\\nWe have to be in search of something equal to the cure\\nStraight out the door, I come to give you more\\nLay the law keep it raw, when I speak it from the core\\nGet underneath your skin like especially with the claw\\nConflicted with the rich cuz I kick it with the poor\\nI laugh in the face of adversity\\nSound clashed with the bass cuz its natural to me\\nBut if you pay attention to the past you will see\\nNot long ago you black they\\'d hang your ass from a tree\\nCertain things things change, while some stay the same\\nSome are recluse others are lovers of the game\\nI\\'m trying to walk the lane, the Sirat al-Mustaqim\\nInstead of doing things they keep you covered in the flame\\n\\n(Somali)\\nNanananana that shit was cool in English, but let me get that Somali verse\\n(Somali)\\n\\n(Somali until fade out)'"
      ]
     },
     "execution_count": 15,
     "metadata": {},
     "output_type": "execute_result"
    }
   ],
   "source": [
    "lyrics"
   ]
  },
  {
   "cell_type": "code",
   "execution_count": 37,
   "metadata": {
    "collapsed": false,
    "scrolled": false
   },
   "outputs": [
    {
     "name": "stdout",
     "output_type": "stream",
     "text": [
      "[{u'name': u'[Intro]',\n",
      "  u'verses': [{u'content': u'Beats by Su-Primo', u'id': 16145},\n",
      "              {u'content': u'for all of my people, negroes and latinos\\nAnd even the gringos\\n\\n\\n',\n",
      "               u'id': 21483}]},\n",
      " {u'name': u'[Verse 1]',\n",
      "  u'verses': [{u'content': u'Yo, check it\\nOne for Charlie Hustle, 2 for Steady Rock\\n',\n",
      "               u'id': 16507},\n",
      "              {u'content': u'3 for the forthcoming live future shock\\n',\n",
      "               u'id': 21277},\n",
      "              {u'content': u\"It's 5 dimensions, 6 senses\\n\", u'id': 21278},\n",
      "              {u'content': u'7 firmaments of heaven and hell,',\n",
      "               u'id': 16956},\n",
      "              {u'content': u'8 Million Stories to tell\\n', u'id': 40632},\n",
      "              {u'content': u'9 planets faithfully keep in orbit with the probable tenth\\n',\n",
      "               u'id': 16173},\n",
      "              {u'content': u'The universe expands length\\n', u'id': 21279},\n",
      "              {u'content': u'The body of my text possess extra strength\\nPower-lift the powerless up out of this towering inferno\\nMy ink so hot it burn through the journal\\n',\n",
      "               u'id': 25746},\n",
      "              {u'content': u\"I'm blacker than midnight on Broadway and Myrtle\\n\",\n",
      "               u'id': 21280},\n",
      "              {u'content': u'Hip-Hop passed all your tall social hurdles\\nLike the nationwide project-prison-industry complex\\n',\n",
      "               u'id': 581211},\n",
      "              {u'content': u\"Working-class poor: better keep your alarm set\\nStreets too loud to ever hear freedom ring\\nSay evacuate your sleep, it's dangerous to dream\\n\",\n",
      "               u'id': 20579},\n",
      "              {u'content': u'For ch-ching, cats get the \"cha-pow!\" You dead now\\n',\n",
      "               u'id': 37510},\n",
      "              {u'content': u'Killing fields need blood to graze the cash cow\\n',\n",
      "               u'id': 21281},\n",
      "              {u'content': u\"It's a numbers game, but shit don't add up somehow\\n\",\n",
      "               u'id': 636656},\n",
      "              {u'content': u'Like I got, 16 to 32 bars to rock it\\nBut only 15% of profits ever see my pockets like\\n',\n",
      "               u'id': 16505},\n",
      "              {u'content': u'69 billion in the last 20 years\\nSpent on national defense but folks still live in fear like\\n',\n",
      "               u'id': 28118},\n",
      "              {u'content': u\"Nearly half of America's largest cities is one-quarter black\\nThat's why they gave Ricky Ross all the crack\\n\",\n",
      "               u'id': 16175},\n",
      "              {u'content': u'16 ounces to a pound, 20 more to a ki\\n',\n",
      "               u'id': 16506},\n",
      "              {u'content': u\"A 5-minute sentence hearing and you're no longer free\\n\",\n",
      "               u'id': 16961},\n",
      "              {u'content': u'40% of Americans own a cell phone\\nSo they can hear everything that you say when you ain\\'t home\\nI guess Michael Jackson was right: \"You Are Not Alone\"\\n',\n",
      "               u'id': 25784},\n",
      "              {u'content': u\"Rock your hardhat, black, cause you in the Terrordome\\nFull of hard niggas, large niggas, dice-tumblers\\nYoung teens and prison greens facing life numbers\\nCrack mothers, crack babies and AIDS patients\\nYoung bloods can't spell but they could rock you in PlayStation\\n\",\n",
      "               u'id': 25785},\n",
      "              {u'content': u\"This new math is whipping motherfuckers' ass\\n\",\n",
      "               u'id': 1403226},\n",
      "              {u'content': u'You want to know how to rhyme you better learn how to add\\n',\n",
      "               u'id': 923966},\n",
      "              {u'content': u\"It's mathematics\\n\\n\", u'id': 1134797},\n",
      "              {u'content': u'\\n', u'id': 25786}]},\n",
      " {u'name': u'[Hook]',\n",
      "  u'verses': [{u'content': u'\"The Mighty Mos Def\"', u'id': 28125},\n",
      "              {u'content': u'\"it\\'s simple mathematics\"\\n', u'id': 25788},\n",
      "              {u'content': u'\"Check it out\"', u'id': 28128},\n",
      "              {u'content': u'\"I revolve around science..\"\\n', u'id': 25871},\n",
      "              {u'content': u'\"What are we talking about here?\"\\n',\n",
      "               u'id': 49386},\n",
      "              {u'content': u'\"Do your math\"\\n', u'id': 25789},\n",
      "              {u'content': u'\"1, 2, 3, 4\"\\n', u'id': 25790},\n",
      "              {u'content': u'\"What are we talking about here?\"\\n\\n',\n",
      "               u'id': 49386},\n",
      "              {u'content': u'\\n', u'id': 168552}]},\n",
      " {u'name': u'[Verse 2]',\n",
      "  u'verses': [{u'content': u\"It's one universal law\", u'id': 24521},\n",
      "              {u'content': u'but 2 sides to every story\\n', u'id': 690108},\n",
      "              {u'content': u'3 strikes and you be in for life, mandatory\\n',\n",
      "               u'id': 16964},\n",
      "              {u'content': u\"4 MC's murdered in the last 4 years\\n\",\n",
      "               u'id': 16179},\n",
      "              {u'content': u\"I ain't trying to be the fifth one, the millennium is here\\n\",\n",
      "               u'id': 1038415},\n",
      "              {u'content': u\"Yo it's 6 Million Ways to Die, from the 7 deadly thrills\\n\",\n",
      "               u'id': 21282},\n",
      "              {u'content': u'8-year olds getting found with 9mils\\n',\n",
      "               u'id': 20581},\n",
      "              {u'content': u\"It's 10 P.M., where your seeds at?What's the deal?\\nHe on the hill\",\n",
      "               u'id': 21784},\n",
      "              {u'content': u'pumping krill', u'id': 21283},\n",
      "              {u'content': u'to keep they belly filled\\n', u'id': 945096},\n",
      "              {u'content': u'Light in the ass with heavy steel, sights on the pretty shit in life\\n',\n",
      "               u'id': 690127},\n",
      "              {u'content': u'Young soldiers trying to earn their next stripe\\n',\n",
      "               u'id': 62829},\n",
      "              {u'content': u\"When the average minimum wage is $5.15\\nYou best believe you've got to find a new grind to get C.R.E.A.M\\n\",\n",
      "               u'id': 20582},\n",
      "              {u'content': u\"The white unemployment rate? It's nearly more than triple for black\\n\",\n",
      "               u'id': 25792},\n",
      "              {u'content': u'Some front-liners got their gun in your back\\n',\n",
      "               u'id': 49395},\n",
      "              {u'content': u'Bubbling crack, jewel theft and robbery to combat poverty\\n',\n",
      "               u'id': 418439},\n",
      "              {u'content': u'And end up in the global jail economy\\n',\n",
      "               u'id': 418448},\n",
      "              {u'content': u'Stiffer stipulations attached to each sentence\\nBudget cutbacks but increased police presence\\n',\n",
      "               u'id': 690163},\n",
      "              {u'content': u'And even if you get out of prison still living\\nJoin the other 5 million under state supervision\\n',\n",
      "               u'id': 581216},\n",
      "              {u'content': u'This is business: no faces, just lines and statistics\\nFrom your phone, your zip code to S-S-I digits\\n',\n",
      "               u'id': 418459},\n",
      "              {u'content': u'The system break man, child, and women into figures\\n',\n",
      "               u'id': 690170},\n",
      "              {u'content': u'2 columns for \"who is\" and \"who ain\\'t niggas\"\\n',\n",
      "               u'id': 25791},\n",
      "              {u'content': u'Numbers is hard and real and they never have feelings\\nBut you push too hard, even numbers got limits\\n',\n",
      "               u'id': 765704},\n",
      "              {u'content': u\"Why did one straw break the camel's back?\\nHere's the secret\\nThe million other straws underneath it:\",\n",
      "               u'id': 20583},\n",
      "              {u'content': u\"it's all mathematics\", u'id': 4202269}]}]\n"
     ]
    },
    {
     "ename": "TypeError",
     "evalue": "list indices must be integers, not str",
     "output_type": "error",
     "traceback": [
      "\u001b[0;31m---------------------------------------------------------------------------\u001b[0m",
      "\u001b[0;31mTypeError\u001b[0m                                 Traceback (most recent call last)",
      "\u001b[0;32m<ipython-input-37-e4f4d595fc7c>\u001b[0m in \u001b[0;36m<module>\u001b[0;34m()\u001b[0m\n\u001b[1;32m      7\u001b[0m     \u001b[0mjs\u001b[0m \u001b[0;34m=\u001b[0m \u001b[0mrequests\u001b[0m\u001b[0;34m.\u001b[0m\u001b[0mpost\u001b[0m\u001b[0;34m(\u001b[0m\u001b[0murl\u001b[0m\u001b[0;34m,\u001b[0m \u001b[0mdata\u001b[0m\u001b[0;34m=\u001b[0m\u001b[0mdata\u001b[0m\u001b[0;34m)\u001b[0m\u001b[0;34m.\u001b[0m\u001b[0mjson\u001b[0m\u001b[0;34m(\u001b[0m\u001b[0;34m)\u001b[0m\u001b[0;34m\u001b[0m\u001b[0m\n\u001b[1;32m      8\u001b[0m     \u001b[0mpprint\u001b[0m\u001b[0;34m(\u001b[0m\u001b[0mjs\u001b[0m\u001b[0;34m[\u001b[0m\u001b[0;34m'lyrics'\u001b[0m\u001b[0;34m]\u001b[0m\u001b[0;34m[\u001b[0m\u001b[0;34m'sections'\u001b[0m\u001b[0;34m]\u001b[0m\u001b[0;34m)\u001b[0m\u001b[0;34m\u001b[0m\u001b[0m\n\u001b[0;32m----> 9\u001b[0;31m     \u001b[0mlyrics\u001b[0m \u001b[0;34m=\u001b[0m \u001b[0mjs\u001b[0m\u001b[0;34m[\u001b[0m\u001b[0;34m'lyrics'\u001b[0m\u001b[0;34m]\u001b[0m\u001b[0;34m[\u001b[0m\u001b[0;34m'sections'\u001b[0m\u001b[0;34m]\u001b[0m\u001b[0;34m[\u001b[0m\u001b[0mv\u001b[0m\u001b[0;34m]\u001b[0m\u001b[0;34m[\u001b[0m\u001b[0;34m'verses'\u001b[0m\u001b[0;34m]\u001b[0m\u001b[0;34m[\u001b[0m\u001b[0mv\u001b[0m\u001b[0;34m]\u001b[0m\u001b[0;34m[\u001b[0m\u001b[0;34m'content'\u001b[0m\u001b[0;34m]\u001b[0m\u001b[0;34m\u001b[0m\u001b[0m\n\u001b[0m\u001b[1;32m     10\u001b[0m     \u001b[0mmos_def_lyrics\u001b[0m\u001b[0;34m.\u001b[0m\u001b[0mappend\u001b[0m\u001b[0;34m(\u001b[0m\u001b[0mlyrics\u001b[0m\u001b[0;34m)\u001b[0m\u001b[0;34m\u001b[0m\u001b[0m\n\u001b[1;32m     11\u001b[0m \u001b[0;34m\u001b[0m\u001b[0m\n",
      "\u001b[0;31mTypeError\u001b[0m: list indices must be integers, not str"
     ]
    }
   ],
   "source": [
    "mos_def_lyrics = []\n",
    "\n",
    "for link in mos_def_songs[:3]:\n",
    "    url = 'http://genius-api.com/api/lyricsInfo'\n",
    "    data ={'genre': 'rap',\n",
    "      'link': link}\n",
    "    js = requests.post(url, data=data).json()\n",
    "    pprint(js['lyrics']['sections'])\n",
    "    lyrics = js['lyrics']['sections'][v]['verses'][v]['content']\n",
    "    mos_def_lyrics.append(lyrics)\n",
    "\n",
    "print mos_def_lyrics"
   ]
  },
  {
   "cell_type": "code",
   "execution_count": null,
   "metadata": {
    "collapsed": true
   },
   "outputs": [],
   "source": [
    "# http://genius.com/verified-artists for artist list?"
   ]
  }
 ],
 "metadata": {
  "anaconda-cloud": {},
  "kernelspec": {
   "display_name": "Python [conda env:nlp]",
   "language": "python",
   "name": "conda-env-nlp-py"
  },
  "language_info": {
   "codemirror_mode": {
    "name": "ipython",
    "version": 3
   },
   "file_extension": ".py",
   "mimetype": "text/x-python",
   "name": "python",
   "nbconvert_exporter": "python",
   "pygments_lexer": "ipython3",
   "version": "3.5.2"
  }
 },
 "nbformat": 4,
 "nbformat_minor": 0
}
