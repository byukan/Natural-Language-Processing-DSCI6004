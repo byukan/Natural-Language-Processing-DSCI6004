{
 "cells": [
  {
   "cell_type": "markdown",
   "metadata": {},
   "source": [
    "---\n",
    "Exercises: Topic Modeling with LDA\n",
    "----\n",
    "\n",
    "![](http://www.thewrap.com/wp-content/uploads/2015/12/New-York-Times-paper.jpg)\n",
    "\n",
    "Today you will apply Latent Dirichlet allocation (LDA) to a corpus of NYT articles to discover latent topics. \n",
    "_Yes - the same the NYT articles_ as previously."
   ]
  },
  {
   "cell_type": "markdown",
   "metadata": {},
   "source": [
    "Load the data\n",
    "----\n",
    "\n",
    "Same as last lab"
   ]
  },
  {
   "cell_type": "code",
   "execution_count": 1,
   "metadata": {
    "collapsed": false
   },
   "outputs": [
    {
     "data": {
      "text/html": [
       "<div>\n",
       "<table border=\"1\" class=\"dataframe\">\n",
       "  <thead>\n",
       "    <tr style=\"text-align: right;\">\n",
       "      <th></th>\n",
       "      <th>document_type</th>\n",
       "      <th>web_url</th>\n",
       "      <th>lead_paragraph</th>\n",
       "      <th>abstract</th>\n",
       "      <th>snippet</th>\n",
       "      <th>news_desk</th>\n",
       "      <th>word_count</th>\n",
       "      <th>source</th>\n",
       "      <th>section_name</th>\n",
       "      <th>subsection_name</th>\n",
       "      <th>_id</th>\n",
       "      <th>pub_date</th>\n",
       "      <th>print_page</th>\n",
       "      <th>headline</th>\n",
       "      <th>content</th>\n",
       "    </tr>\n",
       "  </thead>\n",
       "  <tbody>\n",
       "    <tr>\n",
       "      <th>0</th>\n",
       "      <td>article</td>\n",
       "      <td>http://www.nytimes.com/2013/10/03/sports/footb...</td>\n",
       "      <td>You would think that in a symmetric zero-sum s...</td>\n",
       "      <td>None</td>\n",
       "      <td>You would think that in a symmetric zero-sum s...</td>\n",
       "      <td>Sports</td>\n",
       "      <td>347</td>\n",
       "      <td>The New York Times</td>\n",
       "      <td>Sports</td>\n",
       "      <td>Pro Football</td>\n",
       "      <td>524d4e3a38f0d8198974001f</td>\n",
       "      <td>2013-10-03T00:00:00Z</td>\n",
       "      <td>None</td>\n",
       "      <td>Week 5 Probabilities: Why Offense Is More Impo...</td>\n",
       "      <td>the original goal building model football fore...</td>\n",
       "    </tr>\n",
       "    <tr>\n",
       "      <th>1</th>\n",
       "      <td>article</td>\n",
       "      <td>http://www.nytimes.com/2013/10/03/us/new-immig...</td>\n",
       "      <td>House Democrats on Wednesday unveiled an immig...</td>\n",
       "      <td>House Democrats unveil immigration bill that p...</td>\n",
       "      <td>House Democrats on Wednesday unveiled an immig...</td>\n",
       "      <td>National</td>\n",
       "      <td>83</td>\n",
       "      <td>The New York Times</td>\n",
       "      <td>U.S.</td>\n",
       "      <td>None</td>\n",
       "      <td>524cf71338f0d8198973ff7b</td>\n",
       "      <td>2013-10-03T00:00:00Z</td>\n",
       "      <td>21</td>\n",
       "      <td>New Immigration Bill Put Forward</td>\n",
       "      <td>house unveiled immigration bill provides path ...</td>\n",
       "    </tr>\n",
       "  </tbody>\n",
       "</table>\n",
       "</div>"
      ],
      "text/plain": [
       "  document_type                                            web_url  \\\n",
       "0       article  http://www.nytimes.com/2013/10/03/sports/footb...   \n",
       "1       article  http://www.nytimes.com/2013/10/03/us/new-immig...   \n",
       "\n",
       "                                      lead_paragraph  \\\n",
       "0  You would think that in a symmetric zero-sum s...   \n",
       "1  House Democrats on Wednesday unveiled an immig...   \n",
       "\n",
       "                                            abstract  \\\n",
       "0                                               None   \n",
       "1  House Democrats unveil immigration bill that p...   \n",
       "\n",
       "                                             snippet news_desk word_count  \\\n",
       "0  You would think that in a symmetric zero-sum s...    Sports        347   \n",
       "1  House Democrats on Wednesday unveiled an immig...  National         83   \n",
       "\n",
       "               source section_name subsection_name                       _id  \\\n",
       "0  The New York Times       Sports    Pro Football  524d4e3a38f0d8198974001f   \n",
       "1  The New York Times         U.S.            None  524cf71338f0d8198973ff7b   \n",
       "\n",
       "               pub_date print_page  \\\n",
       "0  2013-10-03T00:00:00Z       None   \n",
       "1  2013-10-03T00:00:00Z         21   \n",
       "\n",
       "                                            headline  \\\n",
       "0  Week 5 Probabilities: Why Offense Is More Impo...   \n",
       "1                   New Immigration Bill Put Forward   \n",
       "\n",
       "                                             content  \n",
       "0  the original goal building model football fore...  \n",
       "1  house unveiled immigration bill provides path ...  "
      ]
     },
     "execution_count": 1,
     "metadata": {},
     "output_type": "execute_result"
    }
   ],
   "source": [
    "# Read the articles.pkl file using the df.read_pickle function in Pandas and transform the data into a structure for sci-kit learn.\n",
    "\n",
    "import pandas as pd\n",
    "df = pd.read_pickle(\"../../corpora/nyt_articles.pkl\")\n",
    "\n",
    "# Look that data...\n",
    "# What are the columns?\n",
    "\n",
    "# columns are the features of the article\n",
    "\n",
    "# What are the rows?\n",
    "\n",
    "# individual articles\n",
    "\n",
    "df.head(n=2)"
   ]
  },
  {
   "cell_type": "code",
   "execution_count": 2,
   "metadata": {
    "collapsed": false
   },
   "outputs": [
    {
     "data": {
      "text/plain": [
       "'the original goal building model football forecasting weigh importance facet game in particular want'"
      ]
     },
     "execution_count": 2,
     "metadata": {},
     "output_type": "execute_result"
    }
   ],
   "source": [
    "# Look at a sample of the data - content of the news stories\n",
    "df.content[0][:100]\n",
    "\n",
    "# content of the news article"
   ]
  },
  {
   "cell_type": "markdown",
   "metadata": {},
   "source": [
    "Vectorize data\n",
    "-----\n",
    "\n",
    "Let's use tf-idf \n",
    "\n",
    "[It is \"fight\" whether that is \"theoretical\" correct. But it works better in practice](https://groups.google.com/forum/#!topic/gensim/OESG1jcaXaQ)"
   ]
  },
  {
   "cell_type": "code",
   "execution_count": 13,
   "metadata": {
    "collapsed": false
   },
   "outputs": [],
   "source": [
    "from sklearn.feature_extraction.text import TfidfVectorizer\n",
    "\n",
    "# document-term matrix A\n",
    "tfidf_vectorizer = TfidfVectorizer(max_features=1000, max_df=0.95, min_df=2, stop_words='english')\n",
    "vectorized = tfidf_vectorizer\n",
    "vectorized = vectorized.fit_transform(df.content)"
   ]
  },
  {
   "cell_type": "markdown",
   "metadata": {},
   "source": [
    "---\n",
    "Scikit-learn's LDA\n",
    "------\n",
    "\n",
    "Use [Scikit-learn's LDA](http://scikit-learn.org/stable/modules/generated/sklearn.decomposition.LatentDirichletAllocation.html) to find topics."
   ]
  },
  {
   "cell_type": "code",
   "execution_count": 14,
   "metadata": {
    "collapsed": false
   },
   "outputs": [],
   "source": [
    "from sklearn.decomposition.online_lda import LatentDirichletAllocation"
   ]
  },
  {
   "cell_type": "code",
   "execution_count": 36,
   "metadata": {
    "collapsed": false
   },
   "outputs": [
    {
     "data": {
      "text/plain": [
       "LatentDirichletAllocation(batch_size=128, doc_topic_prior=None,\n",
       "             evaluate_every=-1, learning_decay=0.7,\n",
       "             learning_method='online', learning_offset=50.0,\n",
       "             max_doc_update_iter=100, max_iter=5, mean_change_tol=0.001,\n",
       "             n_jobs=1, n_topics=4, perp_tol=0.1, random_state=42,\n",
       "             topic_word_prior=None, total_samples=1000000.0, verbose=0)"
      ]
     },
     "execution_count": 36,
     "metadata": {},
     "output_type": "execute_result"
    }
   ],
   "source": [
    "lda = LatentDirichletAllocation(n_topics=4,\n",
    "                                max_iter=5,\n",
    "                                learning_method='online',\n",
    "                                learning_offset=50.,\n",
    "                                random_state=42)\n",
    "\n",
    "lda.fit(vectorized)"
   ]
  },
  {
   "cell_type": "markdown",
   "metadata": {},
   "source": [
    "Write a function to print topics and words:\n",
    "\n",
    "It should look like this:  \n",
    "`Topic #0:\n",
    "said mr year game new season team like time government state people ms company percent republican work million city party`\n",
    "\n",
    "<br>\n",
    "<details><summary>\n",
    "Click here for a hint…\n",
    "</summary>\n",
    "lda.components_   \n",
    "tf_feature_names = vectorizer.get_feature_names()\n",
    "</details>\n",
    "\n",
    "<br>\n",
    "<details><summary>\n",
    "Click here for the solution…\n",
    "</summary>\n",
    "```\n",
    "def print_top_words(model, feature_names, n_top_words=20):\n",
    "    for topic_idx, topic in enumerate(model.components_):\n",
    "        print(\"Topic #%d:\" % topic_idx)\n",
    "        print(\" \".join([feature_names[i]\n",
    "                        for i in topic.argsort()[:-n_top_words - 1:-1]]))\n",
    "    print()\n",
    "    \n",
    "print(\"Topics in LDA model:\")\n",
    "tf_feature_names = vectorizer.get_feature_names()\n",
    "print_top_words(lda, tf_feature_names)\n",
    "```\n",
    "</details>"
   ]
  },
  {
   "cell_type": "code",
   "execution_count": 46,
   "metadata": {
    "collapsed": false,
    "scrolled": false
   },
   "outputs": [
    {
     "data": {
      "text/plain": [
       "(10, 1000)"
      ]
     },
     "execution_count": 46,
     "metadata": {},
     "output_type": "execute_result"
    }
   ],
   "source": [
    "lda.components_.shape"
   ]
  },
  {
   "cell_type": "code",
   "execution_count": 35,
   "metadata": {
    "collapsed": false
   },
   "outputs": [
    {
     "name": "stdout",
     "output_type": "stream",
     "text": [
      "Topics in LDA model:\n",
      "Topic #0:\n",
      "said mr year game new season team like time government state people ms company percent republican work million city party\n",
      "Topic #1:\n",
      "party merkel said european government mr euro zone germany german political bank new europe percent coalition election official design union\n",
      "Topic #2:\n",
      "iran mr said attack rouhani united syria nuclear official weapon iranian security nation killed israel al military state chemical president\n",
      "Topic #3:\n",
      "twitter follow visit web view site international work merkel europe judge opera mr congress sunday giant india british said political\n",
      "\n"
     ]
    }
   ],
   "source": [
    "def print_top_words(model, feature_names, n_top_words=20):\n",
    "    for topic_idx, topic in enumerate(model.components_):\n",
    "        print(\"Topic #%d:\" % topic_idx)\n",
    "        print(\" \".join([feature_names[i]\n",
    "                        for i in topic.argsort()[:-n_top_words - 1:-1]]))\n",
    "    print()\n",
    "\n",
    "print(\"Topics in LDA model:\")\n",
    "\n",
    "# print(type(tfidf_vectorizer))\n",
    "# print(type(vectorized))\n",
    "\n",
    "vectorizer = tfidf_vectorizer\n",
    "\n",
    "tf_feature_names = vectorizer.get_feature_names()  # TfidfVectorizer\n",
    "print_top_words(lda, tf_feature_names)"
   ]
  },
  {
   "cell_type": "markdown",
   "metadata": {},
   "source": [
    "Experiment with the number of topics. What patterns emerge?\n",
    "\n",
    "What is the best number of topics?"
   ]
  },
  {
   "cell_type": "code",
   "execution_count": 43,
   "metadata": {
    "collapsed": false,
    "scrolled": true
   },
   "outputs": [
    {
     "name": "stdout",
     "output_type": "stream",
     "text": [
      "Topics in LDA model:\n",
      "Topic #0:\n",
      "republican cruz debt house shutdown percent senate bond government investor senator ceiling stock congress said democrat vote boehner market spending\n",
      "Topic #1:\n",
      "twitter follow visit web view site international work police chinese internet merkel party europe pakistan mr attack said government golden\n",
      "Topic #2:\n",
      "mr said new ms like music work year art people time sept company city york world life night series school\n",
      "Topic #3:\n",
      "game season team said player league yankee cup yard play coach year win second run rivera inning time race sunday\n",
      "Topic #4:\n",
      "korea south north oil said music festival government award defense military giant economy gas game nuclear mr cut meeting new\n",
      "Topic #5:\n",
      "song race film bank mr said music new year art like time government design history people republican political work ms\n",
      "Topic #6:\n",
      "miller drug federal county rule law department said court final judge state race employee group year vice nbc company play\n",
      "Topic #7:\n",
      "mr said government state republican year party united official people iran country president law percent new court obama american health\n",
      "Topic #8:\n",
      "mr opera drug wednesday starting bomb clinton live said lawyer big republican network united concert access meeting court case man\n",
      "Topic #9:\n",
      "syria chemical weapon mr syrian state said united government council resolution nation russia security coalition group gas opposition war al\n",
      "\n"
     ]
    }
   ],
   "source": [
    "lda = LatentDirichletAllocation(n_topics=10,\n",
    "                                max_iter=5,\n",
    "                                learning_method='online',\n",
    "                                learning_offset=50.,\n",
    "                                random_state=42)\n",
    "\n",
    "lda.fit(vectorized)\n",
    "\n",
    "\n",
    "print(\"Topics in LDA model:\")\n",
    "\n",
    "# print(type(tfidf_vectorizer))\n",
    "# print(type(vectorized))\n",
    "\n",
    "vectorizer = tfidf_vectorizer\n",
    "\n",
    "tf_feature_names = vectorizer.get_feature_names()  # TfidfVectorizer\n",
    "print_top_words(lda, tf_feature_names)"
   ]
  },
  {
   "cell_type": "markdown",
   "metadata": {},
   "source": [
    "n_topics = 0 is invalid, 1 gives words about sports and domestic affairs\n",
    "\n",
    "the best is probably 10, because that's the number in set(df.section_name); however upon inspection, sometimes it's not so clear which topics match which df.section_name."
   ]
  },
  {
   "cell_type": "markdown",
   "metadata": {},
   "source": [
    "How do the LDA topics compare to the NMF topics?"
   ]
  },
  {
   "cell_type": "markdown",
   "metadata": {
    "collapsed": true
   },
   "source": [
    "here were the NMF topics:\n",
    "\n",
    "* Topic 0: mr, said, court, case, judge, state, justice, lawyer, prison, official\n",
    "* Topic 1: game, season, yard, team, said, league, player, coach, play, touchdown\n",
    "* Topic 2: republican, house, health, care, government, senate, shutdown, obama, law, democrat\n",
    "* Topic 3: iran, rouhani, nuclear, iranian, obama, israel, united, mr, netanyahu, president\n",
    "* Topic 4: ms, music, art, new, work, like, dance, york, museum, song\n",
    "* Topic 5: company, percent, said, market, year, million, bank, china, price, state\n",
    "* Topic 6: yankee, rivera, pettitte, inning, game, season, baseball, run, pitch, stadium\n",
    "* Topic 7: attack, said, official, syria, killed, people, government, police, security, mall\n",
    "* Topic 8: party, merkel, government, germany, european, election, political, europe, german, ms\n",
    "* Topic 9: cup, team, race, said, club, player, year, america, won, ve\n",
    "\n",
    "\n",
    "Topics in LDA model:\n",
    "* Topic #0:\n",
    "republican cruz debt house shutdown percent senate bond government investor senator ceiling stock congress said democrat vote boehner market spending\n",
    "* Topic #1:\n",
    "twitter follow visit web view site international work police chinese internet merkel party europe pakistan mr attack said government golden\n",
    "* Topic #2:\n",
    "mr said new ms like music work year art people time sept company city york world life night series school\n",
    "* Topic #3:\n",
    "game season team said player league yankee cup yard play coach year win second run rivera inning time race sunday\n",
    "* Topic #4:\n",
    "korea south north oil said music festival government award defense military giant economy gas game nuclear mr cut meeting new\n",
    "* Topic #5:\n",
    "song race film bank mr said music new year art like time government design history people republican political work ms\n",
    "* Topic #6:\n",
    "miller drug federal county rule law department said court final judge state race employee group year vice nbc company play\n",
    "* Topic #7:\n",
    "mr said government state republican year party united official people iran country president law percent new court obama american health\n",
    "* Topic #8:\n",
    "mr opera drug wednesday starting bomb clinton live said lawyer big republican network united concert access meeting court case man\n",
    "* Topic #9:\n",
    "syria chemical weapon mr syrian state said united government council resolution nation russia security coalition group gas opposition war al\n",
    "\n"
   ]
  },
  {
   "cell_type": "markdown",
   "metadata": {},
   "source": [
    "How do the LDA topics compare to the NYT section labels?"
   ]
  },
  {
   "cell_type": "markdown",
   "metadata": {
    "collapsed": true
   },
   "source": [
    "answer to this question is subjective.\n",
    "\n",
    "in the LDA model, the word \"republican\" shows up in multiple topics.  The same word can show up in multiple topics for either LDA or NMF.\n",
    "\n",
    "A nuanced distinction to keep in mind is that within a document, a word can belong only to a single topic.  So inside a docment, if \"bank\" gets labeled in the \"finance\" topic, all occurances of \"bank\" in the document get assigned the \"finance\" topic.\n",
    "\n",
    "There's no golden labels, so whatever you think is better is better."
   ]
  },
  {
   "cell_type": "markdown",
   "metadata": {
    "collapsed": true
   },
   "source": [
    "---\n",
    "Challenge Exercises\n",
    "----"
   ]
  },
  {
   "cell_type": "markdown",
   "metadata": {},
   "source": [
    "1) Try the same analysis with the `lda` package.\n",
    "\n",
    "[RTFM](http://pythonhosted.org/lda/)"
   ]
  },
  {
   "cell_type": "code",
   "execution_count": 52,
   "metadata": {
    "collapsed": false
   },
   "outputs": [],
   "source": [
    "try:\n",
    "    import lda\n",
    "except ImportError:\n",
    "    import pip\n",
    "    pip.main(['install', 'lda'])"
   ]
  },
  {
   "cell_type": "code",
   "execution_count": null,
   "metadata": {
    "collapsed": true
   },
   "outputs": [],
   "source": []
  },
  {
   "cell_type": "markdown",
   "metadata": {},
   "source": [
    "2) Try with [genism](https://radimrehurek.com/gensim/tut2.html)"
   ]
  },
  {
   "cell_type": "code",
   "execution_count": null,
   "metadata": {
    "collapsed": true
   },
   "outputs": [],
   "source": []
  },
  {
   "cell_type": "markdown",
   "metadata": {},
   "source": [
    "3) Try the same analysis with [GraphLab's API](https://dato.com/products/create/docs/generated/graphlab.topic_model.create.html)\n",
    "\n",
    "Check out this notebook for a great [lda visualization](http://nbviewer.jupyter.org/github/bmabey/pyLDAvis/blob/master/notebooks/GraphLab.ipynb#topic=2&lambda=0.41&term=).\n",
    "\n",
    "__NOTE:__ GraphLab only supports Python 2.7"
   ]
  },
  {
   "cell_type": "code",
   "execution_count": 53,
   "metadata": {
    "collapsed": false
   },
   "outputs": [
    {
     "name": "stderr",
     "output_type": "stream",
     "text": [
      "sudo: no tty present and no askpass program specified\n",
      "bash: line 4: /Users/justw/.graphlab/config: No such file or directory\n"
     ]
    }
   ],
   "source": [
    "%%bash\n",
    "# Install graphlab\n",
    "sudo pip2 install graphlab-create\n",
    "echo '[Product]\n",
    "product_key=D868-7DBE-AC8A-0343-45F3-E250-34B4-24CA' > ~/.graphlab/config"
   ]
  },
  {
   "cell_type": "code",
   "execution_count": 54,
   "metadata": {
    "collapsed": false
   },
   "outputs": [
    {
     "ename": "ImportError",
     "evalue": "No module named 'graphlab'",
     "output_type": "error",
     "traceback": [
      "\u001b[0;31m---------------------------------------------------------------------------\u001b[0m",
      "\u001b[0;31mImportError\u001b[0m                               Traceback (most recent call last)",
      "\u001b[0;32m<ipython-input-54-4a710214f762>\u001b[0m in \u001b[0;36m<module>\u001b[0;34m()\u001b[0m\n\u001b[0;32m----> 1\u001b[0;31m \u001b[0;32mimport\u001b[0m \u001b[0mgraphlab\u001b[0m \u001b[0;32mas\u001b[0m \u001b[0mgl\u001b[0m\u001b[0;34m\u001b[0m\u001b[0m\n\u001b[0m",
      "\u001b[0;31mImportError\u001b[0m: No module named 'graphlab'"
     ]
    }
   ],
   "source": [
    "import graphlab as gl"
   ]
  },
  {
   "cell_type": "markdown",
   "metadata": {
    "collapsed": true
   },
   "source": [
    "<br>\n",
    "<br>\n",
    "<br>\n",
    "\n",
    "---"
   ]
  }
 ],
 "metadata": {
  "anaconda-cloud": {},
  "kernelspec": {
   "display_name": "Python [default]",
   "language": "python",
   "name": "python3"
  },
  "language_info": {
   "codemirror_mode": {
    "name": "ipython",
    "version": 3
   },
   "file_extension": ".py",
   "mimetype": "text/x-python",
   "name": "python",
   "nbconvert_exporter": "python",
   "pygments_lexer": "ipython3",
   "version": "3.5.2"
  }
 },
 "nbformat": 4,
 "nbformat_minor": 0
}
