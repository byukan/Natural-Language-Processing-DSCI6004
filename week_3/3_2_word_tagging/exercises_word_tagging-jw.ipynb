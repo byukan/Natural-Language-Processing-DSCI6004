{
 "cells": [
  {
   "cell_type": "markdown",
   "metadata": {},
   "source": [
    "POS tagging exercises\n",
    "----"
   ]
  },
  {
   "cell_type": "markdown",
   "metadata": {},
   "source": [
    "Compare packages: nltk vs. TextBlob"
   ]
  },
  {
   "cell_type": "code",
   "execution_count": 1,
   "metadata": {
    "collapsed": true
   },
   "outputs": [],
   "source": [
    "reset -fs"
   ]
  },
  {
   "cell_type": "code",
   "execution_count": 12,
   "metadata": {
    "collapsed": true
   },
   "outputs": [],
   "source": [
    "text = \"\"\"My whole life is about winning. I don't lose often. I almost never lose.\n",
    "- Donald Trump\"\"\""
   ]
  },
  {
   "cell_type": "code",
   "execution_count": 33,
   "metadata": {
    "collapsed": false
   },
   "outputs": [
    {
     "data": {
      "text/plain": [
       "['My',\n",
       " 'whole',\n",
       " 'life',\n",
       " 'is',\n",
       " 'about',\n",
       " 'winning',\n",
       " '.',\n",
       " 'I',\n",
       " 'do',\n",
       " \"n't\",\n",
       " 'lose',\n",
       " 'often',\n",
       " '.',\n",
       " 'I',\n",
       " 'almost',\n",
       " 'never',\n",
       " 'lose',\n",
       " '.',\n",
       " '-',\n",
       " 'Donald',\n",
       " 'Trump']"
      ]
     },
     "execution_count": 33,
     "metadata": {},
     "output_type": "execute_result"
    }
   ],
   "source": [
    "# : POS tag the tokens with nltk\n",
    "from nltk import pos_tag\n",
    "from nltk import word_tokenize\n",
    "\n",
    "# pos_tag(tokenize(text))\n",
    "tags_nltk = pos_tag(word_tokenize(text))\n",
    "\n",
    "# word_tokenize(text)"
   ]
  },
  {
   "cell_type": "code",
   "execution_count": 27,
   "metadata": {
    "collapsed": false
   },
   "outputs": [],
   "source": [
    "assert tags_nltk == [('My', 'PRP$'),\n",
    " ('whole', 'JJ'),\n",
    " ('life', 'NN'),\n",
    " ('is', 'VBZ'),\n",
    " ('about', 'IN'),\n",
    " ('winning', 'VBG'),\n",
    " ('.', '.'),\n",
    " ('I', 'PRP'),\n",
    " ('do', 'VBP'),\n",
    " (\"n't\", 'RB'),\n",
    " ('lose', 'VB'),\n",
    " ('often', 'RB'),\n",
    " ('.', '.'),\n",
    " ('I', 'PRP'),\n",
    " ('almost', 'RB'),\n",
    " ('never', 'RB'),\n",
    " ('lose', 'VBP'),\n",
    " ('.', '.'),\n",
    " ('-', ':'),\n",
    " ('Donald', 'NNP'),\n",
    " ('Trump', 'NNP')]"
   ]
  },
  {
   "cell_type": "code",
   "execution_count": 31,
   "metadata": {
    "collapsed": false
   },
   "outputs": [],
   "source": [
    "# : POS tag the tokens with TextBlob\n",
    "\n",
    "from textblob import TextBlob\n",
    "tags_blob = TextBlob(text).tags"
   ]
  },
  {
   "cell_type": "code",
   "execution_count": 32,
   "metadata": {
    "collapsed": false
   },
   "outputs": [],
   "source": [
    "assert tags_blob == [('My', 'PRP$'),\n",
    " ('whole', 'JJ'),\n",
    " ('life', 'NN'),\n",
    " ('is', 'VBZ'),\n",
    " ('about', 'IN'),\n",
    " ('winning', 'VBG'),\n",
    " ('I', 'PRP'),\n",
    " ('do', 'VBP'),\n",
    " (\"n't\", 'RB'),\n",
    " ('lose', 'VB'),\n",
    " ('often', 'RB'),\n",
    " ('I', 'PRP'),\n",
    " ('almost', 'RB'),\n",
    " ('never', 'RB'),\n",
    " ('lose', 'VBP'),\n",
    " ('Donald', 'NNP'),\n",
    " ('Trump', 'NNP')]\n"
   ]
  },
  {
   "cell_type": "markdown",
   "metadata": {
    "collapsed": true
   },
   "source": [
    "# : Compare the results by hand (DO NOT WRITE ANY CODE). Are the same? Why or Why not?\n",
    "\n",
    "Classifications are the same; however, TextBlob(text).tags does not include punctuation, while nltk.pos_tag(word_tokenize(text)) does."
   ]
  },
  {
   "cell_type": "markdown",
   "metadata": {
    "collapsed": true
   },
   "source": [
    "# : Which api is easier to use?\n",
    "\n",
    "TextBlob api is easier to use because the TextBlob class encapusulates the idea of having to make multiple function calls.\n",
    "\n",
    "# Why? Try to describe in it computer science / oop terms\n",
    "\n",
    "We encapsulate the pos tuples as a member variable of an object than a pos_tag function on a list of tokens."
   ]
  },
  {
   "cell_type": "markdown",
   "metadata": {},
   "source": [
    "<details><summary>\n",
    "Click here for hints\n",
    "</summary>\n",
    "- [Class methods](https://julien.danjou.info/blog/2013/guide-python-static-class-abstract-methods)  \n",
    "- [Properties](http://www.python-course.eu/python3_properties.php)\n",
    "</details>"
   ]
  },
  {
   "cell_type": "markdown",
   "metadata": {},
   "source": [
    "----\n",
    "Let's define custom tags (fancy).\n",
    "\n",
    "![](https://media.giphy.com/media/VlchmIoZPjjYQ/giphy.gif)"
   ]
  },
  {
   "cell_type": "markdown",
   "metadata": {},
   "source": [
    "Default tagger: use the most frequent tag"
   ]
  },
  {
   "cell_type": "code",
   "execution_count": 36,
   "metadata": {
    "collapsed": false
   },
   "outputs": [],
   "source": [
    "tokens = word_tokenize(\"Thieves leave young athletes in the dark\")"
   ]
  },
  {
   "cell_type": "code",
   "execution_count": 42,
   "metadata": {
    "collapsed": false
   },
   "outputs": [
    {
     "data": {
      "text/plain": [
       "<DefaultTagger: tag=NN>"
      ]
     },
     "execution_count": 42,
     "metadata": {},
     "output_type": "execute_result"
    }
   ],
   "source": [
    "# : Create a default tagger makes all tags NN - Noun, singular or mass\n",
    "# class DefaultTagger:\n",
    "#     def __init__(self):\n",
    "#         pass\n",
    "    \n",
    "#     def tag(tokens):\n",
    "#         \"\"\"\n",
    "#         makes all tags NN - None, singular or mass\n",
    "#         \"\"\"\n",
    "import nltk\n",
    "\n",
    "default_tagger = nltk.DefaultTagger('NN')\n",
    "default_tagger"
   ]
  },
  {
   "cell_type": "code",
   "execution_count": 43,
   "metadata": {
    "collapsed": false
   },
   "outputs": [],
   "source": [
    "default_tags = default_tagger.tag(tokens)"
   ]
  },
  {
   "cell_type": "code",
   "execution_count": 44,
   "metadata": {
    "collapsed": true
   },
   "outputs": [],
   "source": [
    "assert default_tags == [('Thieves', 'NN'),\n",
    " ('leave', 'NN'),\n",
    " ('young', 'NN'),\n",
    " ('athletes', 'NN'),\n",
    " ('in', 'NN'),\n",
    " ('the', 'NN'),\n",
    " ('dark', 'NN')]"
   ]
  },
  {
   "cell_type": "code",
   "execution_count": 54,
   "metadata": {
    "collapsed": true
   },
   "outputs": [],
   "source": [
    "# : Is a default tagger good for anything?"
   ]
  },
  {
   "cell_type": "markdown",
   "metadata": {
    "collapsed": true
   },
   "source": [
    "it is good for words not in the system.  For example, when you have unknown pos, such as in a foreign language, you can use default tagger to tag the unrealized words."
   ]
  },
  {
   "cell_type": "markdown",
   "metadata": {},
   "source": [
    "The regular expression tagger"
   ]
  },
  {
   "cell_type": "code",
   "execution_count": 92,
   "metadata": {
    "collapsed": true
   },
   "outputs": [],
   "source": [
    "text = 'January, He was born in March 1991, August'"
   ]
  },
  {
   "cell_type": "markdown",
   "metadata": {},
   "source": [
    "tags:  \n",
    "```('He', 'PRP')\n",
    "('was', 'VBD')\n",
    "('born', 'VBN')\n",
    "('in', 'IN')\n",
    "('March', 'NNP')\n",
    "('1991', 'CD')```"
   ]
  },
  {
   "cell_type": "markdown",
   "metadata": {},
   "source": [
    "('March', 'NNP') is not a great category."
   ]
  },
  {
   "cell_type": "code",
   "execution_count": 88,
   "metadata": {
    "collapsed": false
   },
   "outputs": [
    {
     "name": "stdout",
     "output_type": "stream",
     "text": [
      "1 2 3 4 5\n"
     ]
    }
   ],
   "source": [
    "a = [1, 2, 3, 4, 5]\n",
    "\n",
    "# def f(x):\n",
    "#     return x**2\n",
    "\n",
    "print(*a)\n",
    "\n",
    "# type(*a)"
   ]
  },
  {
   "cell_type": "code",
   "execution_count": 93,
   "metadata": {
    "collapsed": false,
    "scrolled": true
   },
   "outputs": [
    {
     "name": "stdout",
     "output_type": "stream",
     "text": [
      "('January', None)\n",
      "(',', None)\n",
      "('He', None)\n",
      "('was', None)\n",
      "('born', None)\n",
      "('in', None)\n",
      "('March', 'MONTH')\n",
      "('1991', None)\n",
      "(',', None)\n",
      "('August', None)\n"
     ]
    }
   ],
   "source": [
    "# Custom POS tags\n",
    "pattern = [(r'(March)$','MONTH')]\n",
    "tagger = nltk.RegexpTagger(pattern)\n",
    "\n",
    "print(*tagger.tag(nltk.word_tokenize(text)), sep='\\n')\n",
    "# type(nltk.word_tokenize(text))"
   ]
  },
  {
   "cell_type": "code",
   "execution_count": 94,
   "metadata": {
    "collapsed": false
   },
   "outputs": [
    {
     "data": {
      "text/plain": [
       "['January',\n",
       " 'February',\n",
       " 'March',\n",
       " 'April',\n",
       " 'May',\n",
       " 'June',\n",
       " 'July',\n",
       " 'August',\n",
       " 'September',\n",
       " 'October',\n",
       " 'November',\n",
       " 'December']"
      ]
     },
     "execution_count": 94,
     "metadata": {},
     "output_type": "execute_result"
    }
   ],
   "source": [
    "# tagger\n",
    "calendar.month_name[1:13]"
   ]
  },
  {
   "cell_type": "code",
   "execution_count": 96,
   "metadata": {
    "collapsed": false
   },
   "outputs": [
    {
     "name": "stdout",
     "output_type": "stream",
     "text": [
      "('January', 'MONTH')\n",
      "(',', None)\n",
      "('He', None)\n",
      "('was', None)\n",
      "('born', None)\n",
      "('in', None)\n",
      "('March', 'MONTH')\n",
      "('1991', None)\n",
      "(',', None)\n",
      "('August', 'MONTH')\n"
     ]
    }
   ],
   "source": [
    "# : Change pattern to include all months. \n",
    "import calendar\n",
    "months = calendar.month_name[1:13]\n",
    "\n",
    "months_pattern = [(r'(%s)$'%month, 'MONTH') for month in months]\n",
    "\n",
    "tagger = nltk.RegexpTagger(months_pattern)\n",
    "\n",
    "print(*tagger.tag(nltk.word_tokenize(text)), sep='\\n')"
   ]
  },
  {
   "cell_type": "markdown",
   "metadata": {},
   "source": [
    "<br>\n",
    "<br>\n",
    "<details><summary>\n",
    "Click here for a hint:\n",
    "</summary>\n",
    "Load months from Standard Library. Then programmatically write the pattern.\n",
    "</details>"
   ]
  },
  {
   "cell_type": "markdown",
   "metadata": {},
   "source": [
    "Text your new pattern against this text:"
   ]
  },
  {
   "cell_type": "code",
   "execution_count": 97,
   "metadata": {
    "collapsed": true
   },
   "outputs": [],
   "source": [
    "text = \"\"\"January brings the snow,\n",
    "makes our feet and fingers glow.\n",
    "\n",
    "February brings the rain,\n",
    "Thaws the frozen lake again.\n",
    "\n",
    "March brings breezes loud and shrill,\n",
    "stirs the dancing daffodil.\n",
    "\n",
    "April brings the primrose sweet,\n",
    "Scatters daises at our feet.\n",
    "\n",
    "May brings flocks of pretty lambs,\n",
    "Skipping by their fleecy damns.\n",
    "|\n",
    "June brings tulips, lilies, roses,\n",
    "Fills the children's hand with posies.\n",
    "\n",
    "Hot july brings cooling showers,\n",
    "Apricots and gillyflowers.\n",
    "\n",
    "August brings the sheaves of corn,\n",
    "Then the harvest home is borne.\n",
    "\n",
    "Warm september brings the fruit,\n",
    "Sportsmen then begin to shoot.\n",
    "\n",
    "Fresh October brings the pheasents,\n",
    "Then to gather nuts is pleasent.\n",
    "\n",
    "Dull November brings the blast,\n",
    "Then the leaves are whirling fast.\n",
    "\n",
    "Chill December brings the sleet,\n",
    "Blazing fire, and Christmas treat. \"\"\""
   ]
  },
  {
   "cell_type": "markdown",
   "metadata": {},
   "source": [
    "The output should be like:\n",
    "\n",
    "```\n",
    "('January', 'MONTH')\n",
    "('brings', None)\n",
    "('the', None)\n",
    "('snow', None)\n",
    "...\n",
    "```"
   ]
  },
  {
   "cell_type": "code",
   "execution_count": 98,
   "metadata": {
    "collapsed": false,
    "scrolled": true
   },
   "outputs": [
    {
     "name": "stdout",
     "output_type": "stream",
     "text": [
      "('January', 'MONTH')\n",
      "('brings', None)\n",
      "('the', None)\n",
      "('snow', None)\n",
      "(',', None)\n",
      "('makes', None)\n",
      "('our', None)\n",
      "('feet', None)\n",
      "('and', None)\n",
      "('fingers', None)\n",
      "('glow', None)\n",
      "('.', None)\n",
      "('February', 'MONTH')\n",
      "('brings', None)\n",
      "('the', None)\n",
      "('rain', None)\n",
      "(',', None)\n",
      "('Thaws', None)\n",
      "('the', None)\n",
      "('frozen', None)\n",
      "('lake', None)\n",
      "('again', None)\n",
      "('.', None)\n",
      "('March', 'MONTH')\n",
      "('brings', None)\n",
      "('breezes', None)\n",
      "('loud', None)\n",
      "('and', None)\n",
      "('shrill', None)\n",
      "(',', None)\n",
      "('stirs', None)\n",
      "('the', None)\n",
      "('dancing', None)\n",
      "('daffodil', None)\n",
      "('.', None)\n",
      "('April', 'MONTH')\n",
      "('brings', None)\n",
      "('the', None)\n",
      "('primrose', None)\n",
      "('sweet', None)\n",
      "(',', None)\n",
      "('Scatters', None)\n",
      "('daises', None)\n",
      "('at', None)\n",
      "('our', None)\n",
      "('feet', None)\n",
      "('.', None)\n",
      "('May', 'MONTH')\n",
      "('brings', None)\n",
      "('flocks', None)\n",
      "('of', None)\n",
      "('pretty', None)\n",
      "('lambs', None)\n",
      "(',', None)\n",
      "('Skipping', None)\n",
      "('by', None)\n",
      "('their', None)\n",
      "('fleecy', None)\n",
      "('damns', None)\n",
      "('.', None)\n",
      "('|', None)\n",
      "('June', 'MONTH')\n",
      "('brings', None)\n",
      "('tulips', None)\n",
      "(',', None)\n",
      "('lilies', None)\n",
      "(',', None)\n",
      "('roses', None)\n",
      "(',', None)\n",
      "('Fills', None)\n",
      "('the', None)\n",
      "('children', None)\n",
      "(\"'s\", None)\n",
      "('hand', None)\n",
      "('with', None)\n",
      "('posies', None)\n",
      "('.', None)\n",
      "('Hot', None)\n",
      "('july', None)\n",
      "('brings', None)\n",
      "('cooling', None)\n",
      "('showers', None)\n",
      "(',', None)\n",
      "('Apricots', None)\n",
      "('and', None)\n",
      "('gillyflowers', None)\n",
      "('.', None)\n",
      "('August', 'MONTH')\n",
      "('brings', None)\n",
      "('the', None)\n",
      "('sheaves', None)\n",
      "('of', None)\n",
      "('corn', None)\n",
      "(',', None)\n",
      "('Then', None)\n",
      "('the', None)\n",
      "('harvest', None)\n",
      "('home', None)\n",
      "('is', None)\n",
      "('borne', None)\n",
      "('.', None)\n",
      "('Warm', None)\n",
      "('september', None)\n",
      "('brings', None)\n",
      "('the', None)\n",
      "('fruit', None)\n",
      "(',', None)\n",
      "('Sportsmen', None)\n",
      "('then', None)\n",
      "('begin', None)\n",
      "('to', None)\n",
      "('shoot', None)\n",
      "('.', None)\n",
      "('Fresh', None)\n",
      "('October', 'MONTH')\n",
      "('brings', None)\n",
      "('the', None)\n",
      "('pheasents', None)\n",
      "(',', None)\n",
      "('Then', None)\n",
      "('to', None)\n",
      "('gather', None)\n",
      "('nuts', None)\n",
      "('is', None)\n",
      "('pleasent', None)\n",
      "('.', None)\n",
      "('Dull', None)\n",
      "('November', 'MONTH')\n",
      "('brings', None)\n",
      "('the', None)\n",
      "('blast', None)\n",
      "(',', None)\n",
      "('Then', None)\n",
      "('the', None)\n",
      "('leaves', None)\n",
      "('are', None)\n",
      "('whirling', None)\n",
      "('fast', None)\n",
      "('.', None)\n",
      "('Chill', None)\n",
      "('December', 'MONTH')\n",
      "('brings', None)\n",
      "('the', None)\n",
      "('sleet', None)\n",
      "(',', None)\n",
      "('Blazing', None)\n",
      "('fire', None)\n",
      "(',', None)\n",
      "('and', None)\n",
      "('Christmas', None)\n",
      "('treat', None)\n",
      "('.', None)\n"
     ]
    }
   ],
   "source": [
    "# TODO: Apply pattern to text\n",
    "\n",
    "tagger = nltk.RegexpTagger(months_pattern)\n",
    "\n",
    "print(*tagger.tag(nltk.word_tokenize(text)), sep='\\n')"
   ]
  },
  {
   "cell_type": "code",
   "execution_count": 101,
   "metadata": {
    "collapsed": true
   },
   "outputs": [],
   "source": [
    "# Unit Test\n",
    "for tag in tags_nltk:\n",
    "    if tag[0] in months:\n",
    "        assert tag[1] == 'MONTH'"
   ]
  },
  {
   "cell_type": "raw",
   "metadata": {},
   "source": [
    "\n",
    "----\n",
    "\n",
    "Let's write another regular expression tagger for verbs\n",
    "\n",
    "- VB: base form, e.g., ‘go’\n",
    "- VBZ: 3rd person singular present, e.g., goes\n",
    "- VBN: past participle, e.g., ‘gone’\n",
    "- VBG: gerund, e.g., ‘going’\n",
    "- VB: simple past, ‘wen"
   ]
  },
  {
   "cell_type": "code",
   "execution_count": 62,
   "metadata": {
    "collapsed": true
   },
   "outputs": [],
   "source": [
    "# TODO: Add the following regex patterns\n",
    "# - VBG: gerund, e.g., ‘going’\n",
    "# - 'NN': capturing all remaining patterns\n",
    "patterns = [\n",
    "(r'.*ed$', 'VBD'),\n",
    "(r'.*es$', 'VBZ'),\n",
    "(r'.*ould$', 'MD'),\n",
    "(r'.*\\'s$', 'NN$'),\n",
    "(r'.*s$', 'NNS')]"
   ]
  },
  {
   "cell_type": "code",
   "execution_count": 63,
   "metadata": {
    "collapsed": false
   },
   "outputs": [],
   "source": []
  },
  {
   "cell_type": "code",
   "execution_count": 65,
   "metadata": {
    "collapsed": false
   },
   "outputs": [],
   "source": [
    "text = \"It's going going gone Go Cubs\".split()\n",
    "\n",
    "regexp_tagger = nltk.RegexpTagger(patterns)\n",
    "tagged = regexp_tagger.tag(text)"
   ]
  },
  {
   "cell_type": "code",
   "execution_count": 66,
   "metadata": {
    "collapsed": false
   },
   "outputs": [],
   "source": [
    "assert tagged == [(\"It's\", 'NN$'),\n",
    " ('going', 'VBG'),\n",
    " ('going', 'VBG'),\n",
    " ('gone', 'NN'),\n",
    " ('Go', 'NN'),\n",
    " ('Cubs', 'NNS')]"
   ]
  },
  {
   "cell_type": "markdown",
   "metadata": {},
   "source": [
    "<br>\n",
    "<br> \n",
    "<br>\n",
    "\n",
    "----"
   ]
  }
 ],
 "metadata": {
  "kernelspec": {
   "display_name": "Python 3",
   "language": "python",
   "name": "python3"
  },
  "language_info": {
   "codemirror_mode": {
    "name": "ipython",
    "version": 3
   },
   "file_extension": ".py",
   "mimetype": "text/x-python",
   "name": "python",
   "nbconvert_exporter": "python",
   "pygments_lexer": "ipython3",
   "version": "3.5.2"
  }
 },
 "nbformat": 4,
 "nbformat_minor": 1
}
