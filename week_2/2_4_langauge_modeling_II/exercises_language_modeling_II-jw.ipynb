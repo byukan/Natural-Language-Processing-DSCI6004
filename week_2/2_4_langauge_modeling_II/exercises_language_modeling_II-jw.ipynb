{
 "cells": [
  {
   "cell_type": "markdown",
   "metadata": {},
   "source": [
    "----\n",
    "Exercises: Language Modeling\n",
    "====\n",
    "\n",
    "Let's practice bigrams, MLE, and Laplace smoothing...."
   ]
  },
  {
   "cell_type": "code",
   "execution_count": 3,
   "metadata": {
    "collapsed": false,
    "scrolled": true
   },
   "outputs": [
    {
     "data": {
      "text/plain": [
       "8"
      ]
     },
     "execution_count": 3,
     "metadata": {},
     "output_type": "execute_result"
    }
   ],
   "source": [
    "corpus = \"en såg såg en såg en såg såg , en annan sågade en sågen sågen såg . </s>\".split()\n",
    "vocabulary = set(corpus)\n",
    "len(vocabulary)"
   ]
  },
  {
   "cell_type": "code",
   "execution_count": 4,
   "metadata": {
    "collapsed": true
   },
   "outputs": [],
   "source": [
    "import nltk"
   ]
  },
  {
   "cell_type": "code",
   "execution_count": 7,
   "metadata": {
    "collapsed": false
   },
   "outputs": [
    {
     "data": {
      "text/plain": [
       "ConditionalFreqDist(nltk.probability.FreqDist,\n",
       "                    {',': FreqDist({'en': 1}),\n",
       "                     '.': FreqDist({'</s>': 1}),\n",
       "                     'annan': FreqDist({'sågade': 1}),\n",
       "                     'en': FreqDist({'annan': 1, 'såg': 3, 'sågen': 1}),\n",
       "                     'såg': FreqDist({',': 1, '.': 1, 'en': 2, 'såg': 2}),\n",
       "                     'sågade': FreqDist({'en': 1}),\n",
       "                     'sågen': FreqDist({'såg': 1, 'sågen': 1})})"
      ]
     },
     "execution_count": 7,
     "metadata": {},
     "output_type": "execute_result"
    }
   ],
   "source": [
    "cfd = nltk.ConditionalFreqDist(nltk.bigrams(corpus))\n",
    "cfd"
   ]
  },
  {
   "cell_type": "markdown",
   "metadata": {},
   "source": [
    ": Describe cfd in your own words"
   ]
  },
  {
   "cell_type": "markdown",
   "metadata": {
    "collapsed": true
   },
   "source": [
    "conditional frequency distribution splits the corpus into bigrams, and tallies the frequencies"
   ]
  },
  {
   "cell_type": "code",
   "execution_count": 11,
   "metadata": {
    "collapsed": true
   },
   "outputs": [],
   "source": [
    "sentence = \"såg såg sågade en sågen \".split()"
   ]
  },
  {
   "cell_type": "code",
   "execution_count": 12,
   "metadata": {
    "collapsed": false
   },
   "outputs": [
    {
     "name": "stdout",
     "output_type": "stream",
     "text": [
      "word 1\tword 2\tbigram count\n",
      "såg\tsåg\t2\n",
      "såg\tsågade\t0\n",
      "sågade\ten\t1\n",
      "en\tsågen\t1\n"
     ]
    }
   ],
   "source": [
    "# The corpus counts of each bigram in the sentence:\n",
    "print(\"word 1\", \"word 2\", \"bigram count\", sep=\"\\t\")\n",
    "[print(a, b, cfd[a][b], sep=\"\\t\") for (a,b) in nltk.bigrams(sentence)];"
   ]
  },
  {
   "cell_type": "code",
   "execution_count": 21,
   "metadata": {
    "collapsed": false
   },
   "outputs": [
    {
     "data": {
      "text/plain": [
       "[6, 6, 1, 5, 2]"
      ]
     },
     "execution_count": 21,
     "metadata": {},
     "output_type": "execute_result"
    }
   ],
   "source": [
    "# : The corpus counts for each word in the sentence:\n",
    "# from collections import Counter\n",
    "\n",
    "# counts = Counter(sentence)\n",
    "# counts\n",
    "\n",
    "corpus_count_unigram = [corpus.count(word) for word in sentence]\n",
    "\n",
    "corpus_count_unigram"
   ]
  },
  {
   "cell_type": "code",
   "execution_count": 22,
   "metadata": {
    "collapsed": false
   },
   "outputs": [],
   "source": [
    "assert corpus_count_unigram == [6, 6, 1, 5, 2]"
   ]
  },
  {
   "cell_type": "code",
   "execution_count": 23,
   "metadata": {
    "collapsed": false
   },
   "outputs": [
    {
     "name": "stdout",
     "output_type": "stream",
     "text": [
      "word 1\tword 2\tMLE probability\n",
      "såg\tsåg\t0.3333333333333333\n",
      "såg\tsågade\t0.0\n",
      "sågade\ten\t1.0\n",
      "en\tsågen\t0.2\n"
     ]
    }
   ],
   "source": [
    "# The MLE probability for each bigram:\n",
    "print(\"word 1\", \"word 2\", \"MLE probability\", sep=\"\\t\")\n",
    "[print(a, b, (cfd[a][b]/cfd[a].N()), sep=\"\\t\") for (a,b) in nltk.bigrams(sentence)];"
   ]
  },
  {
   "cell_type": "code",
   "execution_count": 56,
   "metadata": {
    "collapsed": false
   },
   "outputs": [
    {
     "data": {
      "text/plain": [
       "[0.3333333333333333, 0.0, 1.0, 0.2]"
      ]
     },
     "execution_count": 56,
     "metadata": {},
     "output_type": "execute_result"
    }
   ],
   "source": [
    "#  : Repeat using in the built-in methods for MLE probability:\n",
    "# a, b = nltk.bigrams(sentence)\n",
    "[cfd[a].freq(b) for (a,b) in nltk.bigrams(sentence)]\n",
    "# type(cfd)\n",
    "\n",
    "# cfdist = nltk.probability.ConditionalProbDist((len(word), word) for word in sentence)\n",
    "# cfdist"
   ]
  },
  {
   "cell_type": "code",
   "execution_count": 48,
   "metadata": {
    "collapsed": false
   },
   "outputs": [
    {
     "data": {
      "text/plain": [
       "0.0"
      ]
     },
     "execution_count": 48,
     "metadata": {},
     "output_type": "execute_result"
    }
   ],
   "source": [
    "# The probability of the sentence is the product of all bigram probabilities:\n",
    "from functools import reduce\n",
    "\n",
    "prob_bigram = [cfd[a][b]/cfd[a].N() for (a,b) in nltk.bigrams(sentence)]\n",
    "reduce(lambda x,y:x*y, prob_bigram)"
   ]
  },
  {
   "cell_type": "markdown",
   "metadata": {},
   "source": [
    "That is not a great model becuase it predicts zero for a sentence exists, even though we haven't seen it yet!"
   ]
  },
  {
   "cell_type": "code",
   "execution_count": 50,
   "metadata": {
    "collapsed": false
   },
   "outputs": [
    {
     "data": {
      "text/plain": [
       "[3, 1, 2, 2]"
      ]
     },
     "execution_count": 50,
     "metadata": {},
     "output_type": "execute_result"
    }
   ],
   "source": [
    "# Laplace smoothing of each bigram count:\n",
    "[1 + cfd[a][b] for (a,b) in nltk.bigrams(sentence)]"
   ]
  },
  {
   "cell_type": "code",
   "execution_count": 52,
   "metadata": {
    "collapsed": false
   },
   "outputs": [
    {
     "data": {
      "text/plain": [
       "[14, 14, 9, 13]"
      ]
     },
     "execution_count": 52,
     "metadata": {},
     "output_type": "execute_result"
    }
   ],
   "source": [
    "# We need to normalise the counts for each word:\n",
    "[len(vocabulary) + cfd[a].N() for (a,b) in nltk.bigrams(sentence)]"
   ]
  },
  {
   "cell_type": "code",
   "execution_count": 61,
   "metadata": {
    "collapsed": false
   },
   "outputs": [
    {
     "name": "stdout",
     "output_type": "stream",
     "text": [
      "word 1\tword 2\tLaplace smoothed probability\n"
     ]
    },
    {
     "data": {
      "text/plain": [
       "[0.21428571428571427,\n",
       " 0.07142857142857142,\n",
       " 0.2222222222222222,\n",
       " 0.15384615384615385]"
      ]
     },
     "execution_count": 61,
     "metadata": {},
     "output_type": "execute_result"
    }
   ],
   "source": [
    "#TODO: Calculate and print the smoothed Laplace probability for each bigram:\n",
    "print(\"word 1\", \"word 2\", \"Laplace smoothed probability\", sep=\"\\t\")\n",
    "# [print(a, b, (cfd[a].freq(b)), sep=\"\\t\") for (a,b) in nltk.bigrams(sentence)];\n",
    "smoothed_out = [(1 + cfd[a][b])/(len(vocabulary) + cfd[a].N()) for (a,b) in nltk.bigrams(sentence)]\n",
    "smoothed_out"
   ]
  },
  {
   "cell_type": "code",
   "execution_count": 62,
   "metadata": {
    "collapsed": false
   },
   "outputs": [],
   "source": [
    "assert smoothed_out == [0.21428571428571427,\n",
    " 0.07142857142857142,\n",
    " 0.2222222222222222,\n",
    " 0.15384615384615385]"
   ]
  },
  {
   "cell_type": "code",
   "execution_count": 63,
   "metadata": {
    "collapsed": false
   },
   "outputs": [
    {
     "data": {
      "text/plain": [
       "0.0005232862375719518"
      ]
     },
     "execution_count": 63,
     "metadata": {},
     "output_type": "execute_result"
    }
   ],
   "source": [
    "# The smoothed probability of the sentence:\n",
    "reduce(lambda x,y:x*y, smoothed_out)"
   ]
  },
  {
   "cell_type": "code",
   "execution_count": 64,
   "metadata": {
    "collapsed": true
   },
   "outputs": [],
   "source": [
    "assert round(reduce(lambda x,y:x*y, smoothed_out),6) == 0.000523"
   ]
  },
  {
   "cell_type": "markdown",
   "metadata": {},
   "source": [
    ": How can we interpret this probability?"
   ]
  },
  {
   "cell_type": "markdown",
   "metadata": {
    "collapsed": true
   },
   "source": [
    "This is the probability of seeing an unknown bigram in the corpus.\n",
    "\n",
    "sentence\n",
    "\n",
    "Probability of the sentence formed by the bigrams given corpus."
   ]
  },
  {
   "cell_type": "markdown",
   "metadata": {},
   "source": [
    "------\n",
    "Here is how it would look all together in a grown-up codebase."
   ]
  },
  {
   "cell_type": "code",
   "execution_count": 66,
   "metadata": {
    "collapsed": false
   },
   "outputs": [],
   "source": [
    "# MLEProbDist is the unsmoothed probability distribution:\n",
    "cpd_mle = nltk.ConditionalProbDist(cfd,\n",
    "                                   nltk.MLEProbDist,\n",
    "                                   bins=len(vocabulary))"
   ]
  },
  {
   "cell_type": "code",
   "execution_count": 67,
   "metadata": {
    "collapsed": false
   },
   "outputs": [
    {
     "name": "stdout",
     "output_type": "stream",
     "text": [
      "word 1\tword 2\tMLE probability\n",
      "såg\tsåg\t0.3333333333333333\n",
      "såg\tsågade\t0.0\n",
      "sågade\ten\t1.0\n",
      "en\tsågen\t0.2\n"
     ]
    }
   ],
   "source": [
    "# Now we can get the MLE probabilities by using the .prob method:\n",
    "print(\"word 1\", \"word 2\", \"MLE probability\", sep=\"\\t\")\n",
    "[print(a, b, cpd_mle[a].prob(b), sep=\"\\t\") for (a,b) in nltk.bigrams(sentence)];"
   ]
  },
  {
   "cell_type": "code",
   "execution_count": 68,
   "metadata": {
    "collapsed": true
   },
   "outputs": [],
   "source": [
    "# LaplaceProbDist is the add-one smoothed ProbDist:\n",
    "cpd_laplace = nltk.ConditionalProbDist(cfd, \n",
    "                                       nltk.LaplaceProbDist, \n",
    "                                       bins=len(vocabulary))"
   ]
  },
  {
   "cell_type": "code",
   "execution_count": 69,
   "metadata": {
    "collapsed": false
   },
   "outputs": [
    {
     "name": "stdout",
     "output_type": "stream",
     "text": [
      "word 1\tword 2\tLaplace smoothed probability\n",
      "såg\tsåg\t0.21428571428571427\n",
      "såg\tsågade\t0.07142857142857142\n",
      "sågade\ten\t0.2222222222222222\n",
      "en\tsågen\t0.15384615384615385\n"
     ]
    }
   ],
   "source": [
    "# Getting the Laplace probabilities is the same as for MLE:\n",
    "print(\"word 1\", \"word 2\", \"Laplace smoothed probability\", sep=\"\\t\")\n",
    "[print(a, b, cpd_laplace[a].prob(b), sep=\"\\t\") for (a,b) in nltk.bigrams(sentence)];"
   ]
  },
  {
   "cell_type": "code",
   "execution_count": 70,
   "metadata": {
    "collapsed": false
   },
   "outputs": [
    {
     "name": "stdout",
     "output_type": "stream",
     "text": [
      "/bin/sh: -c: line 0: syntax error near unexpected token `http://ljdchost.com/AbW1pPX.gif'\r\n",
      "/bin/sh: -c: line 0: `[](http://ljdchost.com/AbW1pPX.gif)'\r\n"
     ]
    }
   ],
   "source": [
    "![](http://ljdchost.com/AbW1pPX.gif)"
   ]
  },
  {
   "cell_type": "markdown",
   "metadata": {},
   "source": [
    "<br>\n",
    "<br> \n",
    "<br>\n",
    "\n",
    "----"
   ]
  },
  {
   "cell_type": "markdown",
   "metadata": {},
   "source": [
    "<br>\n",
    "<br>\n",
    "---"
   ]
  }
 ],
 "metadata": {
  "anaconda-cloud": {},
  "kernelspec": {
   "display_name": "Python [conda env:nlp]",
   "language": "python",
   "name": "conda-env-nlp-py"
  },
  "language_info": {
   "codemirror_mode": {
    "name": "ipython",
    "version": 3
   },
   "file_extension": ".py",
   "mimetype": "text/x-python",
   "name": "python",
   "nbconvert_exporter": "python",
   "pygments_lexer": "ipython3",
   "version": "3.5.2"
  }
 },
 "nbformat": 4,
 "nbformat_minor": 0
}
